{
 "cells": [
  {
   "cell_type": "markdown",
   "id": "3857416b",
   "metadata": {
    "papermill": {
     "duration": 0.049701,
     "end_time": "2022-11-06T21:26:53.203016",
     "exception": false,
     "start_time": "2022-11-06T21:26:53.153315",
     "status": "completed"
    },
    "tags": []
   },
   "source": [
    "# SkillFusionX"
   ]
  },
  {
   "cell_type": "code",
   "execution_count": 1,
   "id": "61247d6f",
   "metadata": {
    "execution": {
     "iopub.execute_input": "2022-11-06T21:26:53.296994Z",
     "iopub.status.busy": "2022-11-06T21:26:53.296350Z",
     "iopub.status.idle": "2022-11-06T21:26:54.349459Z",
     "shell.execute_reply": "2022-11-06T21:26:54.348536Z"
    },
    "papermill": {
     "duration": 1.104226,
     "end_time": "2022-11-06T21:26:54.352760",
     "exception": false,
     "start_time": "2022-11-06T21:26:53.248534",
     "status": "completed"
    },
    "tags": []
   },
   "outputs": [],
   "source": [
    "import pandas as pd \n",
    "import numpy as np\n",
    "import seaborn as sns\n",
    "import matplotlib.pyplot as plt"
   ]
  },
  {
   "cell_type": "code",
   "execution_count": 2,
   "id": "8fd57f6f",
   "metadata": {
    "execution": {
     "iopub.execute_input": "2022-11-06T21:26:54.446466Z",
     "iopub.status.busy": "2022-11-06T21:26:54.445772Z",
     "iopub.status.idle": "2022-11-06T21:26:54.449988Z",
     "shell.execute_reply": "2022-11-06T21:26:54.449201Z"
    },
    "papermill": {
     "duration": 0.053107,
     "end_time": "2022-11-06T21:26:54.452142",
     "exception": false,
     "start_time": "2022-11-06T21:26:54.399035",
     "status": "completed"
    },
    "tags": []
   },
   "outputs": [],
   "source": [
    "import warnings\n",
    "warnings.filterwarnings('ignore')"
   ]
  },
  {
   "cell_type": "code",
   "execution_count": 3,
   "id": "eb3b7b78",
   "metadata": {
    "execution": {
     "iopub.execute_input": "2022-11-06T21:26:54.545501Z",
     "iopub.status.busy": "2022-11-06T21:26:54.544349Z",
     "iopub.status.idle": "2022-11-06T21:26:54.924257Z",
     "shell.execute_reply": "2022-11-06T21:26:54.921741Z"
    },
    "papermill": {
     "duration": 0.431015,
     "end_time": "2022-11-06T21:26:54.928118",
     "exception": false,
     "start_time": "2022-11-06T21:26:54.497103",
     "status": "completed"
    },
    "tags": []
   },
   "outputs": [
    {
     "data": {
      "text/html": [
       "<div>\n",
       "<style scoped>\n",
       "    .dataframe tbody tr th:only-of-type {\n",
       "        vertical-align: middle;\n",
       "    }\n",
       "\n",
       "    .dataframe tbody tr th {\n",
       "        vertical-align: top;\n",
       "    }\n",
       "\n",
       "    .dataframe thead th {\n",
       "        text-align: right;\n",
       "    }\n",
       "</style>\n",
       "<table border=\"1\" class=\"dataframe\">\n",
       "  <thead>\n",
       "    <tr style=\"text-align: right;\">\n",
       "      <th></th>\n",
       "      <th>ID</th>\n",
       "      <th>Name</th>\n",
       "      <th>Age</th>\n",
       "      <th>Height</th>\n",
       "      <th>Weight</th>\n",
       "      <th>Overall</th>\n",
       "      <th>Potential</th>\n",
       "      <th>Growth</th>\n",
       "      <th>TotalStats</th>\n",
       "      <th>BaseStats</th>\n",
       "      <th>...</th>\n",
       "      <th>Penalties</th>\n",
       "      <th>Composure</th>\n",
       "      <th>Marking</th>\n",
       "      <th>StandingTackle</th>\n",
       "      <th>SlidingTackle</th>\n",
       "      <th>GKDiving</th>\n",
       "      <th>GKHandling</th>\n",
       "      <th>GKKicking</th>\n",
       "      <th>GKPositioning</th>\n",
       "      <th>GKReflexes</th>\n",
       "    </tr>\n",
       "  </thead>\n",
       "  <tbody>\n",
       "    <tr>\n",
       "      <th>0</th>\n",
       "      <td>158023</td>\n",
       "      <td>L. Messi</td>\n",
       "      <td>35</td>\n",
       "      <td>169</td>\n",
       "      <td>67</td>\n",
       "      <td>91</td>\n",
       "      <td>91</td>\n",
       "      <td>0</td>\n",
       "      <td>2190</td>\n",
       "      <td>452</td>\n",
       "      <td>...</td>\n",
       "      <td>75</td>\n",
       "      <td>96</td>\n",
       "      <td>20</td>\n",
       "      <td>35</td>\n",
       "      <td>24</td>\n",
       "      <td>6</td>\n",
       "      <td>11</td>\n",
       "      <td>15</td>\n",
       "      <td>14</td>\n",
       "      <td>8</td>\n",
       "    </tr>\n",
       "    <tr>\n",
       "      <th>1</th>\n",
       "      <td>165153</td>\n",
       "      <td>K. Benzema</td>\n",
       "      <td>34</td>\n",
       "      <td>185</td>\n",
       "      <td>81</td>\n",
       "      <td>91</td>\n",
       "      <td>91</td>\n",
       "      <td>0</td>\n",
       "      <td>2147</td>\n",
       "      <td>455</td>\n",
       "      <td>...</td>\n",
       "      <td>84</td>\n",
       "      <td>90</td>\n",
       "      <td>43</td>\n",
       "      <td>24</td>\n",
       "      <td>18</td>\n",
       "      <td>13</td>\n",
       "      <td>11</td>\n",
       "      <td>5</td>\n",
       "      <td>5</td>\n",
       "      <td>7</td>\n",
       "    </tr>\n",
       "    <tr>\n",
       "      <th>2</th>\n",
       "      <td>188545</td>\n",
       "      <td>R. Lewandowski</td>\n",
       "      <td>33</td>\n",
       "      <td>185</td>\n",
       "      <td>81</td>\n",
       "      <td>91</td>\n",
       "      <td>91</td>\n",
       "      <td>0</td>\n",
       "      <td>2205</td>\n",
       "      <td>458</td>\n",
       "      <td>...</td>\n",
       "      <td>90</td>\n",
       "      <td>88</td>\n",
       "      <td>35</td>\n",
       "      <td>42</td>\n",
       "      <td>19</td>\n",
       "      <td>15</td>\n",
       "      <td>6</td>\n",
       "      <td>12</td>\n",
       "      <td>8</td>\n",
       "      <td>10</td>\n",
       "    </tr>\n",
       "    <tr>\n",
       "      <th>3</th>\n",
       "      <td>192985</td>\n",
       "      <td>K. De Bruyne</td>\n",
       "      <td>31</td>\n",
       "      <td>181</td>\n",
       "      <td>70</td>\n",
       "      <td>91</td>\n",
       "      <td>91</td>\n",
       "      <td>0</td>\n",
       "      <td>2303</td>\n",
       "      <td>483</td>\n",
       "      <td>...</td>\n",
       "      <td>83</td>\n",
       "      <td>89</td>\n",
       "      <td>68</td>\n",
       "      <td>65</td>\n",
       "      <td>53</td>\n",
       "      <td>15</td>\n",
       "      <td>13</td>\n",
       "      <td>5</td>\n",
       "      <td>10</td>\n",
       "      <td>13</td>\n",
       "    </tr>\n",
       "    <tr>\n",
       "      <th>4</th>\n",
       "      <td>231747</td>\n",
       "      <td>K. Mbappé</td>\n",
       "      <td>23</td>\n",
       "      <td>182</td>\n",
       "      <td>73</td>\n",
       "      <td>91</td>\n",
       "      <td>95</td>\n",
       "      <td>4</td>\n",
       "      <td>2177</td>\n",
       "      <td>470</td>\n",
       "      <td>...</td>\n",
       "      <td>80</td>\n",
       "      <td>88</td>\n",
       "      <td>26</td>\n",
       "      <td>34</td>\n",
       "      <td>32</td>\n",
       "      <td>13</td>\n",
       "      <td>5</td>\n",
       "      <td>7</td>\n",
       "      <td>11</td>\n",
       "      <td>6</td>\n",
       "    </tr>\n",
       "  </tbody>\n",
       "</table>\n",
       "<p>5 rows × 65 columns</p>\n",
       "</div>"
      ],
      "text/plain": [
       "       ID            Name  Age  Height  Weight  Overall  Potential  Growth  \\\n",
       "0  158023        L. Messi   35     169      67       91         91       0   \n",
       "1  165153      K. Benzema   34     185      81       91         91       0   \n",
       "2  188545  R. Lewandowski   33     185      81       91         91       0   \n",
       "3  192985    K. De Bruyne   31     181      70       91         91       0   \n",
       "4  231747       K. Mbappé   23     182      73       91         95       4   \n",
       "\n",
       "   TotalStats  BaseStats  ...  Penalties  Composure  Marking  StandingTackle  \\\n",
       "0        2190        452  ...         75         96       20              35   \n",
       "1        2147        455  ...         84         90       43              24   \n",
       "2        2205        458  ...         90         88       35              42   \n",
       "3        2303        483  ...         83         89       68              65   \n",
       "4        2177        470  ...         80         88       26              34   \n",
       "\n",
       "   SlidingTackle  GKDiving  GKHandling  GKKicking  GKPositioning  GKReflexes  \n",
       "0             24         6          11         15             14           8  \n",
       "1             18        13          11          5              5           7  \n",
       "2             19        15           6         12              8          10  \n",
       "3             53        15          13          5             10          13  \n",
       "4             32        13           5          7             11           6  \n",
       "\n",
       "[5 rows x 65 columns]"
      ]
     },
     "execution_count": 3,
     "metadata": {},
     "output_type": "execute_result"
    }
   ],
   "source": [
    "data = pd.read_csv(\"./players_fifa23_cleaned.csv\")\n",
    "data.head()"
   ]
  },
  {
   "cell_type": "code",
   "execution_count": 4,
   "id": "13e58ce9",
   "metadata": {
    "execution": {
     "iopub.execute_input": "2022-11-06T21:26:55.031319Z",
     "iopub.status.busy": "2022-11-06T21:26:55.030267Z",
     "iopub.status.idle": "2022-11-06T21:26:55.037507Z",
     "shell.execute_reply": "2022-11-06T21:26:55.036546Z"
    },
    "papermill": {
     "duration": 0.056649,
     "end_time": "2022-11-06T21:26:55.039539",
     "exception": false,
     "start_time": "2022-11-06T21:26:54.982890",
     "status": "completed"
    },
    "tags": []
   },
   "outputs": [
    {
     "data": {
      "text/plain": [
       "(18447, 65)"
      ]
     },
     "execution_count": 4,
     "metadata": {},
     "output_type": "execute_result"
    }
   ],
   "source": [
    "data.shape"
   ]
  },
  {
   "cell_type": "code",
   "execution_count": 5,
   "id": "de1b5334",
   "metadata": {
    "execution": {
     "iopub.execute_input": "2022-11-06T21:26:55.133419Z",
     "iopub.status.busy": "2022-11-06T21:26:55.132792Z",
     "iopub.status.idle": "2022-11-06T21:26:55.150808Z",
     "shell.execute_reply": "2022-11-06T21:26:55.149728Z"
    },
    "papermill": {
     "duration": 0.067812,
     "end_time": "2022-11-06T21:26:55.153225",
     "exception": false,
     "start_time": "2022-11-06T21:26:55.085413",
     "status": "completed"
    },
    "tags": []
   },
   "outputs": [],
   "source": [
    "needed_columns = ['ID', 'Name', 'Age', 'Height', 'Weight',\n",
    "       'Overall', 'Potential', 'Growth', 'TotalStats',\n",
    "       'BaseStats', 'BestPosition', 'Club', 'ValueEUR', 'WageEUR',\n",
    "       'ReleaseClause', 'ContractUntil', 'ClubJoined', 'OnLoad',\n",
    "       'PreferredFoot', 'IntReputation', 'WeakFoot','Nationality',\n",
    "       'SkillMoves', 'AttackingWorkRate', 'DefensiveWorkRate', 'PaceTotal',\n",
    "       'ShootingTotal', 'PassingTotal', 'DribblingTotal', 'DefendingTotal',\n",
    "       'PhysicalityTotal', 'Crossing', 'Finishing', 'HeadingAccuracy',\n",
    "       'ShortPassing', 'Volleys', 'Dribbling', 'Curve', 'FKAccuracy',\n",
    "       'LongPassing', 'BallControl', 'Acceleration', 'SprintSpeed', 'Agility',\n",
    "       'Reactions', 'Balance', 'ShotPower', 'Jumping', 'Stamina', 'Strength',\n",
    "       'LongShots', 'Aggression', 'Interceptions', 'Positioning', 'Vision',\n",
    "       'Penalties', 'Composure', 'Marking', 'StandingTackle', 'SlidingTackle',\n",
    "       'GKDiving', 'GKHandling', 'GKKicking', 'GKPositioning', 'GKReflexes']\n",
    "\n",
    "\n",
    "data = data[needed_columns]"
   ]
  },
  {
   "cell_type": "markdown",
   "id": "7bc5648b",
   "metadata": {
    "papermill": {
     "duration": 0.054228,
     "end_time": "2022-11-06T21:27:11.078987",
     "exception": false,
     "start_time": "2022-11-06T21:27:11.024759",
     "status": "completed"
    },
    "tags": []
   },
   "source": [
    "<h2>Split the Data to Train and Test sets:</h2>"
   ]
  },
  {
   "cell_type": "code",
   "execution_count": 6,
   "id": "6aca54f3",
   "metadata": {
    "execution": {
     "iopub.execute_input": "2022-11-06T21:27:11.190674Z",
     "iopub.status.busy": "2022-11-06T21:27:11.190261Z",
     "iopub.status.idle": "2022-11-06T21:27:11.213477Z",
     "shell.execute_reply": "2022-11-06T21:27:11.212342Z"
    },
    "papermill": {
     "duration": 0.082129,
     "end_time": "2022-11-06T21:27:11.216015",
     "exception": false,
     "start_time": "2022-11-06T21:27:11.133886",
     "status": "completed"
    },
    "tags": []
   },
   "outputs": [],
   "source": [
    "X = data.drop([\"BestPosition\", \"Nationality\", \"ID\"], axis = 1)\n",
    "Y = pd.DataFrame(data[\"BestPosition\"])\n",
    "\n",
    "top = data.sort_values(by=[\"Overall\"], ascending=False).head(20)"
   ]
  },
  {
   "cell_type": "code",
   "execution_count": 7,
   "id": "8c07dcb9",
   "metadata": {
    "execution": {
     "iopub.execute_input": "2022-11-06T21:27:11.327668Z",
     "iopub.status.busy": "2022-11-06T21:27:11.327235Z",
     "iopub.status.idle": "2022-11-06T21:27:11.391477Z",
     "shell.execute_reply": "2022-11-06T21:27:11.390326Z"
    },
    "papermill": {
     "duration": 0.123367,
     "end_time": "2022-11-06T21:27:11.394118",
     "exception": false,
     "start_time": "2022-11-06T21:27:11.270751",
     "status": "completed"
    },
    "tags": []
   },
   "outputs": [],
   "source": [
    "from sklearn.model_selection import train_test_split\n",
    "X_Train, X_Test, Y_Train, Y_Test = train_test_split(X, Y, test_size=0.20, random_state=42)"
   ]
  },
  {
   "cell_type": "code",
   "execution_count": 8,
   "id": "70cecf73",
   "metadata": {
    "execution": {
     "iopub.execute_input": "2022-11-06T21:27:11.506474Z",
     "iopub.status.busy": "2022-11-06T21:27:11.505750Z",
     "iopub.status.idle": "2022-11-06T21:27:11.517683Z",
     "shell.execute_reply": "2022-11-06T21:27:11.516556Z"
    },
    "papermill": {
     "duration": 0.071521,
     "end_time": "2022-11-06T21:27:11.519959",
     "exception": false,
     "start_time": "2022-11-06T21:27:11.448438",
     "status": "completed"
    },
    "tags": []
   },
   "outputs": [],
   "source": [
    "X_Train = X_Train.drop([\"Name\"], axis = 1)\n",
    "test_names = X_Test[\"Name\"]\n",
    "X_Test = X_Test.drop([\"Name\"], axis = 1)\n",
    "\n",
    "top_pos = top[\"BestPosition\"]\n",
    "top_names = top[\"Name\"]\n",
    "top = top.drop([\"Name\", \"BestPosition\", \"Nationality\", \"ID\"], axis = 1)"
   ]
  },
  {
   "cell_type": "markdown",
   "id": "8338a807",
   "metadata": {
    "papermill": {
     "duration": 0.053598,
     "end_time": "2022-11-06T21:27:11.628129",
     "exception": false,
     "start_time": "2022-11-06T21:27:11.574531",
     "status": "completed"
    },
    "tags": []
   },
   "source": [
    "<h3>3. Handle the Imbalanced Data:</h3>"
   ]
  },
  {
   "cell_type": "code",
   "execution_count": 9,
   "id": "e15ab28c",
   "metadata": {
    "execution": {
     "iopub.execute_input": "2022-11-06T21:27:11.740180Z",
     "iopub.status.busy": "2022-11-06T21:27:11.739794Z",
     "iopub.status.idle": "2022-11-06T21:27:11.992951Z",
     "shell.execute_reply": "2022-11-06T21:27:11.991863Z"
    },
    "papermill": {
     "duration": 0.31219,
     "end_time": "2022-11-06T21:27:11.995355",
     "exception": false,
     "start_time": "2022-11-06T21:27:11.683165",
     "status": "completed"
    },
    "tags": []
   },
   "outputs": [
    {
     "data": {
      "text/plain": [
       "<Axes: xlabel='BestPosition', ylabel='count'>"
      ]
     },
     "execution_count": 9,
     "metadata": {},
     "output_type": "execute_result"
    },
    {
     "data": {
      "image/png": "[encoded data removed]",
      "text/plain": [
       "<Figure size 640x480 with 1 Axes>"
      ]
     },
     "metadata": {},
     "output_type": "display_data"
    }
   ],
   "source": [
    "sns.countplot(x=\"BestPosition\", data = Y_Train)"
   ]
  },
  {
   "cell_type": "code",
   "execution_count": 10,
   "id": "06b5d306",
   "metadata": {
    "execution": {
     "iopub.execute_input": "2022-11-06T21:27:12.106996Z",
     "iopub.status.busy": "2022-11-06T21:27:12.106573Z",
     "iopub.status.idle": "2022-11-06T21:27:13.417915Z",
     "shell.execute_reply": "2022-11-06T21:27:13.416923Z"
    },
    "papermill": {
     "duration": 1.370863,
     "end_time": "2022-11-06T21:27:13.420613",
     "exception": false,
     "start_time": "2022-11-06T21:27:12.049750",
     "status": "completed"
    },
    "tags": []
   },
   "outputs": [],
   "source": [
    "from imblearn.over_sampling import SMOTE \n",
    "from imblearn.over_sampling  import RandomOverSampler\n",
    "\n",
    "oversample = RandomOverSampler(sampling_strategy='minority')\n",
    "# fit and apply the transform\n",
    "X_Train, Y_Train = oversample.fit_resample(X_Train, Y_Train)\n",
    "X_Train, Y_Train = oversample.fit_resample(X_Train, Y_Train)\n",
    "X_Train, Y_Train = oversample.fit_resample(X_Train, Y_Train)\n",
    "X_Train, Y_Train = oversample.fit_resample(X_Train, Y_Train)"
   ]
  },
  {
   "cell_type": "code",
   "execution_count": 11,
   "id": "f37c5640",
   "metadata": {
    "execution": {
     "iopub.execute_input": "2022-11-06T21:27:13.532711Z",
     "iopub.status.busy": "2022-11-06T21:27:13.532293Z",
     "iopub.status.idle": "2022-11-06T21:27:13.537726Z",
     "shell.execute_reply": "2022-11-06T21:27:13.536652Z"
    },
    "papermill": {
     "duration": 0.064389,
     "end_time": "2022-11-06T21:27:13.539988",
     "exception": false,
     "start_time": "2022-11-06T21:27:13.475599",
     "status": "completed"
    },
    "tags": []
   },
   "outputs": [
    {
     "name": "stdout",
     "output_type": "stream",
     "text": [
      " X_shape: (27732, 61) \n",
      " y_shape: (27732, 1)\n"
     ]
    }
   ],
   "source": [
    "print(f' X_shape: {X_Train.shape} \\n y_shape: {Y_Train.shape}')"
   ]
  },
  {
   "cell_type": "code",
   "execution_count": 12,
   "id": "57587a26",
   "metadata": {
    "execution": {
     "iopub.execute_input": "2022-11-06T21:27:13.652350Z",
     "iopub.status.busy": "2022-11-06T21:27:13.651929Z",
     "iopub.status.idle": "2022-11-06T21:27:13.899385Z",
     "shell.execute_reply": "2022-11-06T21:27:13.898152Z"
    },
    "papermill": {
     "duration": 0.306554,
     "end_time": "2022-11-06T21:27:13.901868",
     "exception": false,
     "start_time": "2022-11-06T21:27:13.595314",
     "status": "completed"
    },
    "tags": []
   },
   "outputs": [
    {
     "data": {
      "text/plain": [
       "<Axes: xlabel='BestPosition', ylabel='count'>"
      ]
     },
     "execution_count": 12,
     "metadata": {},
     "output_type": "execute_result"
    },
    {
     "data": {
      "image/png": "[encoded data removed]",
      "text/plain": [
       "<Figure size 640x480 with 1 Axes>"
      ]
     },
     "metadata": {},
     "output_type": "display_data"
    }
   ],
   "source": [
    "sns.countplot(x=\"BestPosition\", data = Y_Train)"
   ]
  },
  {
   "cell_type": "markdown",
   "id": "db74b66a",
   "metadata": {
    "papermill": {
     "duration": 0.055009,
     "end_time": "2022-11-06T21:27:14.013505",
     "exception": false,
     "start_time": "2022-11-06T21:27:13.958496",
     "status": "completed"
    },
    "tags": []
   },
   "source": [
    "<h3>4. Feature Scaling:</h3>"
   ]
  },
  {
   "cell_type": "code",
   "execution_count": 13,
   "id": "5feca944",
   "metadata": {
    "execution": {
     "iopub.execute_input": "2022-11-06T21:27:14.126732Z",
     "iopub.status.busy": "2022-11-06T21:27:14.126302Z",
     "iopub.status.idle": "2022-11-06T21:27:14.493032Z",
     "shell.execute_reply": "2022-11-06T21:27:14.491795Z"
    },
    "papermill": {
     "duration": 0.42653,
     "end_time": "2022-11-06T21:27:14.495860",
     "exception": false,
     "start_time": "2022-11-06T21:27:14.069330",
     "status": "completed"
    },
    "tags": []
   },
   "outputs": [],
   "source": [
    "from sklearn.preprocessing import MinMaxScaler\n",
    "\n",
    "mms = MinMaxScaler()\n",
    "\n",
    "X_Train = mms.fit_transform(X_Train)\n",
    "X_Test = mms.fit_transform(X_Test)\n",
    "\n",
    "top = mms.fit_transform(top)"
   ]
  },
  {
   "cell_type": "markdown",
   "id": "fb100fd8",
   "metadata": {
    "papermill": {
     "duration": 0.055075,
     "end_time": "2022-11-06T21:27:14.606350",
     "exception": false,
     "start_time": "2022-11-06T21:27:14.551275",
     "status": "completed"
    },
    "tags": []
   },
   "source": [
    "# Modeling"
   ]
  },
  {
   "cell_type": "markdown",
   "id": "fff6f8ba",
   "metadata": {
    "papermill": {
     "duration": 0.05456,
     "end_time": "2022-11-06T21:27:14.716059",
     "exception": false,
     "start_time": "2022-11-06T21:27:14.661499",
     "status": "completed"
    },
    "tags": []
   },
   "source": [
    "## A. Predict the Position of the Player Using 8 Classification Algorithms:"
   ]
  },
  {
   "cell_type": "markdown",
   "id": "5351c670",
   "metadata": {
    "papermill": {
     "duration": 0.055179,
     "end_time": "2022-11-06T21:27:14.825810",
     "exception": false,
     "start_time": "2022-11-06T21:27:14.770631",
     "status": "completed"
    },
    "tags": []
   },
   "source": [
    "<h3>Functions to be Used: </h3>"
   ]
  },
  {
   "cell_type": "code",
   "execution_count": 14,
   "id": "11426d6b",
   "metadata": {
    "execution": {
     "iopub.execute_input": "2022-11-06T21:27:14.941687Z",
     "iopub.status.busy": "2022-11-06T21:27:14.941021Z",
     "iopub.status.idle": "2022-11-06T21:27:14.946330Z",
     "shell.execute_reply": "2022-11-06T21:27:14.945611Z"
    },
    "papermill": {
     "duration": 0.068059,
     "end_time": "2022-11-06T21:27:14.948345",
     "exception": false,
     "start_time": "2022-11-06T21:27:14.880286",
     "status": "completed"
    },
    "tags": []
   },
   "outputs": [],
   "source": [
    "from sklearn.metrics import confusion_matrix, accuracy_score, classification_report\n",
    "from sklearn.metrics import roc_auc_score\n",
    "\n",
    "# Function to check the classification report\n",
    "def classification_report_fun(model_name, actual, predicted):\n",
    "    print(f'The Classification Report for {model_name} Classifier:')\n",
    "    print(classification_report(actual, predicted))\n",
    "    \n",
    "models_names = []\n",
    "models_scores = []\n",
    "models_auc_scores = []"
   ]
  },
  {
   "cell_type": "code",
   "execution_count": 15,
   "id": "bed54769",
   "metadata": {
    "execution": {
     "iopub.execute_input": "2022-11-06T21:27:15.062543Z",
     "iopub.status.busy": "2022-11-06T21:27:15.061884Z",
     "iopub.status.idle": "2022-11-06T21:27:15.068193Z",
     "shell.execute_reply": "2022-11-06T21:27:15.067493Z"
    },
    "papermill": {
     "duration": 0.06529,
     "end_time": "2022-11-06T21:27:15.070345",
     "exception": false,
     "start_time": "2022-11-06T21:27:15.005055",
     "status": "completed"
    },
    "tags": []
   },
   "outputs": [],
   "source": [
    "def calculate_tpr_fpr(y_real, y_pred):\n",
    "    '''\n",
    "    Calculates the True Positive Rate (tpr) and the True Negative Rate (fpr) based on real and predicted observations\n",
    "    \n",
    "    Args:\n",
    "        y_real: The list or series with the real classes\n",
    "        y_pred: The list or series with the predicted classes\n",
    "        \n",
    "    Returns:\n",
    "        tpr: The True Positive Rate of the classifier\n",
    "        fpr: The False Positive Rate of the classifier\n",
    "    '''\n",
    "    \n",
    "    # Calculates the confusion matrix and recover each element\n",
    "    cm = confusion_matrix(y_real, y_pred)\n",
    "    TN = cm[0, 0]\n",
    "    FP = cm[0, 1]\n",
    "    FN = cm[1, 0]\n",
    "    TP = cm[1, 1]\n",
    "    \n",
    "    # Calculates tpr and fpr\n",
    "    tpr =  TP/(TP + FN) # sensitivity - true positive rate\n",
    "    fpr = 1 - TN/(TN+FP) # 1-specificity - false positive rate\n",
    "    \n",
    "    return tpr, fpr"
   ]
  },
  {
   "cell_type": "code",
   "execution_count": 16,
   "id": "fa8ca4fb",
   "metadata": {
    "execution": {
     "iopub.execute_input": "2022-11-06T21:27:15.185480Z",
     "iopub.status.busy": "2022-11-06T21:27:15.184511Z",
     "iopub.status.idle": "2022-11-06T21:27:15.190805Z",
     "shell.execute_reply": "2022-11-06T21:27:15.190030Z"
    },
    "papermill": {
     "duration": 0.065691,
     "end_time": "2022-11-06T21:27:15.192996",
     "exception": false,
     "start_time": "2022-11-06T21:27:15.127305",
     "status": "completed"
    },
    "tags": []
   },
   "outputs": [],
   "source": [
    "def get_all_roc_coordinates(y_real, y_proba):\n",
    "    '''\n",
    "    Calculates all the ROC Curve coordinates (tpr and fpr) by considering each point as a treshold for the predicion of the class.\n",
    "    \n",
    "    Args:\n",
    "        y_real: The list or series with the real classes.\n",
    "        y_proba: The array with the probabilities for each class, obtained by using the `.predict_proba()` method.\n",
    "        \n",
    "    Returns:\n",
    "        tpr_list: The list of TPRs representing each threshold.\n",
    "        fpr_list: The list of FPRs representing each threshold.\n",
    "    '''\n",
    "    tpr_list = [0]\n",
    "    fpr_list = [0]\n",
    "    for i in range(len(y_proba)):\n",
    "        threshold = y_proba[i]\n",
    "        y_pred = y_proba >= threshold\n",
    "        tpr, fpr = calculate_tpr_fpr(y_real, y_pred)\n",
    "        tpr_list.append(tpr)\n",
    "        fpr_list.append(fpr)\n",
    "    return tpr_list, fpr_list"
   ]
  },
  {
   "cell_type": "code",
   "execution_count": 17,
   "id": "41f70528",
   "metadata": {
    "execution": {
     "iopub.execute_input": "2022-11-06T21:27:15.308422Z",
     "iopub.status.busy": "2022-11-06T21:27:15.307729Z",
     "iopub.status.idle": "2022-11-06T21:27:15.314809Z",
     "shell.execute_reply": "2022-11-06T21:27:15.314017Z"
    },
    "papermill": {
     "duration": 0.067305,
     "end_time": "2022-11-06T21:27:15.316910",
     "exception": false,
     "start_time": "2022-11-06T21:27:15.249605",
     "status": "completed"
    },
    "tags": []
   },
   "outputs": [],
   "source": [
    "def plot_roc_curve(tpr, fpr, scatter = True, ax = None):\n",
    "    '''\n",
    "    Plots the ROC Curve by using the list of coordinates (tpr and fpr).\n",
    "    \n",
    "    Args:\n",
    "        tpr: The list of TPRs representing each coordinate.\n",
    "        fpr: The list of FPRs representing each coordinate.\n",
    "        scatter: When True, the points used on the calculation will be plotted with the line (default = True).\n",
    "    '''\n",
    "    if ax == None:\n",
    "        plt.figure(figsize = (5, 5))\n",
    "        ax = plt.axes()\n",
    "    \n",
    "    if scatter:\n",
    "        sns.scatterplot(x = fpr, y = tpr, ax = ax)\n",
    "    sns.lineplot(x = fpr, y = tpr, ax = ax)\n",
    "    sns.lineplot(x = [0, 1], y = [0, 1], color = 'green', ax = ax)\n",
    "    plt.xlim(-0.05, 1.05)\n",
    "    plt.ylim(-0.05, 1.05)\n",
    "    plt.xlabel(\"False Positive Rate\")\n",
    "    plt.ylabel(\"True Positive Rate\")"
   ]
  },
  {
   "cell_type": "code",
   "execution_count": 18,
   "id": "5d23415e",
   "metadata": {
    "execution": {
     "iopub.execute_input": "2022-11-06T21:27:15.430920Z",
     "iopub.status.busy": "2022-11-06T21:27:15.430184Z",
     "iopub.status.idle": "2022-11-06T21:27:15.440597Z",
     "shell.execute_reply": "2022-11-06T21:27:15.439801Z"
    },
    "papermill": {
     "duration": 0.069942,
     "end_time": "2022-11-06T21:27:15.442675",
     "exception": false,
     "start_time": "2022-11-06T21:27:15.372733",
     "status": "completed"
    },
    "tags": []
   },
   "outputs": [],
   "source": [
    "def draw_pco(Y_Proba, classes):\n",
    "    # Plots the Probability Distributions and the ROC Curves One vs Rest\n",
    "    plt.figure(figsize = (12, 8))\n",
    "    bins = [i/20 for i in range(20)] + [1]\n",
    "    roc_auc_ovr = {}\n",
    "    \n",
    "    for i in range(len(classes)):\n",
    "        # Gets the class\n",
    "        c = classes[i]\n",
    "\n",
    "        # Prepares an auxiliar dataframe to help with the plots\n",
    "        #df_aux = X_Test.copy()\n",
    "        df_aux = pd.DataFrame()\n",
    "        df_aux['class'] = [1 if list(mapping.keys())[list(mapping.values()).index(y)] == c else 0 for y in Y_Test.values]\n",
    "        df_aux['prob'] = Y_Proba[:, i]\n",
    "        df_aux = df_aux.reset_index(drop = True)\n",
    "\n",
    "        # Plots the probability distribution for the class and the rest\n",
    "        ax = plt.subplot(2, 3, i+1)\n",
    "        sns.histplot(x = \"prob\", data = df_aux, hue = 'class', color = 'b', ax = ax, bins = bins)\n",
    "        ax.set_title(c)\n",
    "        ax.legend([f\"Class: {c}\", \"Rest\"])\n",
    "        ax.set_xlabel(f\"P(x = {c})\")\n",
    "\n",
    "        # Calculates the ROC Coordinates and plots the ROC Curves\n",
    "        ax_bottom = plt.subplot(2, 3, i+4)\n",
    "        tpr, fpr = get_all_roc_coordinates(df_aux['class'], df_aux['prob'])\n",
    "        plot_roc_curve(tpr, fpr, scatter = False, ax = ax_bottom)\n",
    "        ax_bottom.set_title(\"ROC Curve OvR\")\n",
    "\n",
    "        # Calculates the ROC AUC OvR\n",
    "        roc_auc_ovr[c] = roc_auc_score(df_aux['class'], df_aux['prob'])\n",
    "\n",
    "    plt.tight_layout()"
   ]
  },
  {
   "cell_type": "code",
   "execution_count": 19,
   "id": "aa147e47",
   "metadata": {
    "execution": {
     "iopub.execute_input": "2022-11-06T21:27:15.555606Z",
     "iopub.status.busy": "2022-11-06T21:27:15.555218Z",
     "iopub.status.idle": "2022-11-06T21:27:15.561236Z",
     "shell.execute_reply": "2022-11-06T21:27:15.560531Z"
    },
    "papermill": {
     "duration": 0.065124,
     "end_time": "2022-11-06T21:27:15.563264",
     "exception": false,
     "start_time": "2022-11-06T21:27:15.498140",
     "status": "completed"
    },
    "tags": []
   },
   "outputs": [
    {
     "data": {
      "text/plain": [
       "['CF', 'CM', 'RW', 'GK', 'CB', 'LW', 'LM', 'LB', 'RM', 'RB']"
      ]
     },
     "execution_count": 19,
     "metadata": {},
     "output_type": "execute_result"
    }
   ],
   "source": [
    "positions = ['CF', 'CM', 'RW', 'GK', 'CB', 'LW', 'LM', 'LB','RM', 'RB']\n",
    "positions"
   ]
  },
  {
   "cell_type": "markdown",
   "id": "c76bd8c8",
   "metadata": {
    "papermill": {
     "duration": 0.05541,
     "end_time": "2022-11-06T21:27:15.674752",
     "exception": false,
     "start_time": "2022-11-06T21:27:15.619342",
     "status": "completed"
    },
    "tags": []
   },
   "source": [
    "<h3>1. Logistic Regression:</h3>"
   ]
  },
  {
   "cell_type": "code",
   "execution_count": 20,
   "id": "619f175b",
   "metadata": {
    "execution": {
     "iopub.execute_input": "2022-11-06T21:27:15.788187Z",
     "iopub.status.busy": "2022-11-06T21:27:15.787473Z",
     "iopub.status.idle": "2022-11-06T21:27:15.791606Z",
     "shell.execute_reply": "2022-11-06T21:27:15.790896Z"
    },
    "papermill": {
     "duration": 0.06325,
     "end_time": "2022-11-06T21:27:15.793597",
     "exception": false,
     "start_time": "2022-11-06T21:27:15.730347",
     "status": "completed"
    },
    "tags": []
   },
   "outputs": [],
   "source": [
    "from sklearn.linear_model import LogisticRegression\n",
    "lr = LogisticRegression()"
   ]
  },
  {
   "cell_type": "code",
   "execution_count": null,
   "id": "1b42a2f4",
   "metadata": {
    "execution": {
     "iopub.execute_input": "2022-11-06T21:27:15.959318Z",
     "iopub.status.busy": "2022-11-06T21:27:15.958628Z",
     "iopub.status.idle": "2022-11-06T21:27:20.323164Z",
     "shell.execute_reply": "2022-11-06T21:27:20.321633Z"
    },
    "papermill": {
     "duration": 4.478628,
     "end_time": "2022-11-06T21:27:20.327945",
     "exception": false,
     "start_time": "2022-11-06T21:27:15.849317",
     "status": "completed"
    },
    "tags": []
   },
   "outputs": [],
   "source": [
    "lr.fit(X_Train , Y_Train)"
   ]
  },
  {
   "cell_type": "code",
   "execution_count": null,
   "id": "89c58898",
   "metadata": {
    "execution": {
     "iopub.execute_input": "2022-11-06T21:27:20.505856Z",
     "iopub.status.busy": "2022-11-06T21:27:20.505111Z",
     "iopub.status.idle": "2022-11-06T21:27:20.530033Z",
     "shell.execute_reply": "2022-11-06T21:27:20.528820Z"
    },
    "papermill": {
     "duration": 0.085557,
     "end_time": "2022-11-06T21:27:20.533782",
     "exception": false,
     "start_time": "2022-11-06T21:27:20.448225",
     "status": "completed"
    },
    "tags": []
   },
   "outputs": [],
   "source": [
    "lr.score(X_Train, Y_Train)"
   ]
  },
  {
   "cell_type": "code",
   "execution_count": null,
   "id": "4db54904",
   "metadata": {
    "execution": {
     "iopub.execute_input": "2022-11-06T21:27:20.714061Z",
     "iopub.status.busy": "2022-11-06T21:27:20.712956Z",
     "iopub.status.idle": "2022-11-06T21:27:20.726951Z",
     "shell.execute_reply": "2022-11-06T21:27:20.725678Z"
    },
    "papermill": {
     "duration": 0.075048,
     "end_time": "2022-11-06T21:27:20.730679",
     "exception": false,
     "start_time": "2022-11-06T21:27:20.655631",
     "status": "completed"
    },
    "tags": []
   },
   "outputs": [],
   "source": [
    "lr.score(X_Test, Y_Test)"
   ]
  },
  {
   "cell_type": "code",
   "execution_count": null,
   "id": "67cb3ddf",
   "metadata": {
    "execution": {
     "iopub.execute_input": "2022-11-06T21:27:20.948201Z",
     "iopub.status.busy": "2022-11-06T21:27:20.947718Z",
     "iopub.status.idle": "2022-11-06T21:27:20.958308Z",
     "shell.execute_reply": "2022-11-06T21:27:20.957117Z"
    },
    "papermill": {
     "duration": 0.094681,
     "end_time": "2022-11-06T21:27:20.962501",
     "exception": false,
     "start_time": "2022-11-06T21:27:20.867820",
     "status": "completed"
    },
    "tags": []
   },
   "outputs": [],
   "source": [
    "Y_Pred_lr = lr.predict(X_Test)"
   ]
  },
  {
   "cell_type": "code",
   "execution_count": null,
   "id": "d657069a",
   "metadata": {
    "execution": {
     "iopub.execute_input": "2022-11-06T21:27:21.187320Z",
     "iopub.status.busy": "2022-11-06T21:27:21.186957Z",
     "iopub.status.idle": "2022-11-06T21:27:21.200990Z",
     "shell.execute_reply": "2022-11-06T21:27:21.199440Z"
    },
    "papermill": {
     "duration": 0.076388,
     "end_time": "2022-11-06T21:27:21.204979",
     "exception": false,
     "start_time": "2022-11-06T21:27:21.128591",
     "status": "completed"
    },
    "tags": []
   },
   "outputs": [],
   "source": [
    "models_names.append(\"Logistic Regression\")\n",
    "models_scores.append(lr.score(X_Test, Y_Test))"
   ]
  },
  {
   "cell_type": "code",
   "execution_count": null,
   "id": "4be2b80d",
   "metadata": {
    "execution": {
     "iopub.execute_input": "2022-11-06T21:27:21.407953Z",
     "iopub.status.busy": "2022-11-06T21:27:21.407476Z",
     "iopub.status.idle": "2022-11-06T21:27:21.431085Z",
     "shell.execute_reply": "2022-11-06T21:27:21.429816Z"
    },
    "papermill": {
     "duration": 0.08637,
     "end_time": "2022-11-06T21:27:21.434555",
     "exception": false,
     "start_time": "2022-11-06T21:27:21.348185",
     "status": "completed"
    },
    "tags": []
   },
   "outputs": [],
   "source": [
    "classification_report_fun(\"Logistic Regression\", Y_Test, Y_Pred_lr)"
   ]
  },
  {
   "cell_type": "code",
   "execution_count": null,
   "id": "b4a62614",
   "metadata": {
    "execution": {
     "iopub.execute_input": "2022-11-06T21:27:21.556419Z",
     "iopub.status.busy": "2022-11-06T21:27:21.555558Z",
     "iopub.status.idle": "2022-11-06T21:27:21.567277Z",
     "shell.execute_reply": "2022-11-06T21:27:21.566036Z"
    },
    "papermill": {
     "duration": 0.074996,
     "end_time": "2022-11-06T21:27:21.573287",
     "exception": false,
     "start_time": "2022-11-06T21:27:21.498291",
     "status": "completed"
    },
    "tags": []
   },
   "outputs": [],
   "source": [
    "Y_Proba_lr = lr.predict_proba(X_Test)"
   ]
  },
  {
   "cell_type": "code",
   "execution_count": null,
   "id": "79b6d8dc",
   "metadata": {
    "execution": {
     "iopub.execute_input": "2022-11-06T21:27:21.779018Z",
     "iopub.status.busy": "2022-11-06T21:27:21.777861Z",
     "iopub.status.idle": "2022-11-06T21:28:51.957261Z",
     "shell.execute_reply": "2022-11-06T21:28:51.956088Z"
    },
    "papermill": {
     "duration": 90.240238,
     "end_time": "2022-11-06T21:28:51.959459",
     "exception": false,
     "start_time": "2022-11-06T21:27:21.719221",
     "status": "completed"
    },
    "tags": []
   },
   "outputs": [],
   "source": [
    "draw_pco(Y_Proba_lr, ['CF', 'CM', 'RW'])\n",
    "draw_pco(Y_Proba_lr, ['GK', 'CB', 'LW'])\n",
    "draw_pco(Y_Proba_lr, ['LM', 'LB','RM'])\n",
    "draw_pco(Y_Proba_lr, ['RB'])"
   ]
  },
  {
   "cell_type": "code",
   "execution_count": null,
   "id": "16703062",
   "metadata": {
    "execution": {
     "iopub.execute_input": "2022-11-06T21:28:52.081416Z",
     "iopub.status.busy": "2022-11-06T21:28:52.080237Z",
     "iopub.status.idle": "2022-11-06T21:28:52.104859Z",
     "shell.execute_reply": "2022-11-06T21:28:52.103795Z"
    },
    "papermill": {
     "duration": 0.088293,
     "end_time": "2022-11-06T21:28:52.107150",
     "exception": false,
     "start_time": "2022-11-06T21:28:52.018857",
     "status": "completed"
    },
    "tags": []
   },
   "outputs": [],
   "source": [
    "auc_score_lr = roc_auc_score(Y_Test, Y_Proba_lr, multi_class = 'ovr', average = 'macro')\n",
    "auc_score_lr"
   ]
  },
  {
   "cell_type": "code",
   "execution_count": null,
   "id": "27c25e1d",
   "metadata": {
    "execution": {
     "iopub.execute_input": "2022-11-06T21:28:52.228253Z",
     "iopub.status.busy": "2022-11-06T21:28:52.227846Z",
     "iopub.status.idle": "2022-11-06T21:28:52.232161Z",
     "shell.execute_reply": "2022-11-06T21:28:52.231425Z"
    },
    "papermill": {
     "duration": 0.067524,
     "end_time": "2022-11-06T21:28:52.234120",
     "exception": false,
     "start_time": "2022-11-06T21:28:52.166596",
     "status": "completed"
    },
    "tags": []
   },
   "outputs": [],
   "source": [
    "models_auc_scores.append(auc_score_lr)"
   ]
  },
  {
   "cell_type": "markdown",
   "id": "4a94eaf0",
   "metadata": {
    "papermill": {
     "duration": 0.060107,
     "end_time": "2022-11-06T21:28:52.355088",
     "exception": false,
     "start_time": "2022-11-06T21:28:52.294981",
     "status": "completed"
    },
    "tags": []
   },
   "source": [
    "<h3>2. Random Forest:</h3>"
   ]
  },
  {
   "cell_type": "code",
   "execution_count": null,
   "id": "9443374f",
   "metadata": {
    "execution": {
     "iopub.execute_input": "2022-11-06T21:28:52.477787Z",
     "iopub.status.busy": "2022-11-06T21:28:52.477357Z",
     "iopub.status.idle": "2022-11-06T21:28:52.482586Z",
     "shell.execute_reply": "2022-11-06T21:28:52.481459Z"
    },
    "papermill": {
     "duration": 0.069754,
     "end_time": "2022-11-06T21:28:52.484809",
     "exception": false,
     "start_time": "2022-11-06T21:28:52.415055",
     "status": "completed"
    },
    "tags": []
   },
   "outputs": [],
   "source": [
    "from sklearn.ensemble import RandomForestClassifier\n",
    "\n",
    "rf = RandomForestClassifier(criterion='gini',n_estimators=50)"
   ]
  },
  {
   "cell_type": "code",
   "execution_count": null,
   "id": "75abb7b5",
   "metadata": {
    "execution": {
     "iopub.execute_input": "2022-11-06T21:28:52.607429Z",
     "iopub.status.busy": "2022-11-06T21:28:52.606603Z",
     "iopub.status.idle": "2022-11-06T21:28:57.283286Z",
     "shell.execute_reply": "2022-11-06T21:28:57.282555Z"
    },
    "papermill": {
     "duration": 4.740982,
     "end_time": "2022-11-06T21:28:57.285525",
     "exception": false,
     "start_time": "2022-11-06T21:28:52.544543",
     "status": "completed"
    },
    "tags": []
   },
   "outputs": [],
   "source": [
    "rf.fit(X_Train, Y_Train)"
   ]
  },
  {
   "cell_type": "code",
   "execution_count": null,
   "id": "330434ee",
   "metadata": {
    "execution": {
     "iopub.execute_input": "2022-11-06T21:28:57.407131Z",
     "iopub.status.busy": "2022-11-06T21:28:57.406447Z",
     "iopub.status.idle": "2022-11-06T21:28:57.822741Z",
     "shell.execute_reply": "2022-11-06T21:28:57.821645Z"
    },
    "papermill": {
     "duration": 0.48006,
     "end_time": "2022-11-06T21:28:57.825346",
     "exception": false,
     "start_time": "2022-11-06T21:28:57.345286",
     "status": "completed"
    },
    "tags": []
   },
   "outputs": [],
   "source": [
    "rf.score(X_Train, Y_Train)"
   ]
  },
  {
   "cell_type": "code",
   "execution_count": null,
   "id": "c4212ad8",
   "metadata": {
    "execution": {
     "iopub.execute_input": "2022-11-06T21:28:57.964692Z",
     "iopub.status.busy": "2022-11-06T21:28:57.964077Z",
     "iopub.status.idle": "2022-11-06T21:28:58.044834Z",
     "shell.execute_reply": "2022-11-06T21:28:58.043743Z"
    },
    "papermill": {
     "duration": 0.161603,
     "end_time": "2022-11-06T21:28:58.047625",
     "exception": false,
     "start_time": "2022-11-06T21:28:57.886022",
     "status": "completed"
    },
    "tags": []
   },
   "outputs": [],
   "source": [
    "rf.score(X_Test, Y_Test)"
   ]
  },
  {
   "cell_type": "code",
   "execution_count": null,
   "id": "70ed9578",
   "metadata": {
    "execution": {
     "iopub.execute_input": "2022-11-06T21:28:58.170090Z",
     "iopub.status.busy": "2022-11-06T21:28:58.169012Z",
     "iopub.status.idle": "2022-11-06T21:28:58.236404Z",
     "shell.execute_reply": "2022-11-06T21:28:58.235549Z"
    },
    "papermill": {
     "duration": 0.130719,
     "end_time": "2022-11-06T21:28:58.238790",
     "exception": false,
     "start_time": "2022-11-06T21:28:58.108071",
     "status": "completed"
    },
    "tags": []
   },
   "outputs": [],
   "source": [
    "Y_Pred_rf = rf.predict(X_Test)"
   ]
  },
  {
   "cell_type": "code",
   "execution_count": null,
   "id": "e5838f3b",
   "metadata": {
    "execution": {
     "iopub.execute_input": "2022-11-06T21:28:58.359839Z",
     "iopub.status.busy": "2022-11-06T21:28:58.359249Z",
     "iopub.status.idle": "2022-11-06T21:28:58.426826Z",
     "shell.execute_reply": "2022-11-06T21:28:58.425986Z"
    },
    "papermill": {
     "duration": 0.130859,
     "end_time": "2022-11-06T21:28:58.429201",
     "exception": false,
     "start_time": "2022-11-06T21:28:58.298342",
     "status": "completed"
    },
    "tags": []
   },
   "outputs": [],
   "source": [
    "models_names.append(\"Random Forest\")\n",
    "models_scores.append(rf.score(X_Test, Y_Test))"
   ]
  },
  {
   "cell_type": "code",
   "execution_count": null,
   "id": "680ff9d9",
   "metadata": {
    "execution": {
     "iopub.execute_input": "2022-11-06T21:28:58.550832Z",
     "iopub.status.busy": "2022-11-06T21:28:58.550225Z",
     "iopub.status.idle": "2022-11-06T21:28:58.568165Z",
     "shell.execute_reply": "2022-11-06T21:28:58.566699Z"
    },
    "papermill": {
     "duration": 0.081996,
     "end_time": "2022-11-06T21:28:58.570930",
     "exception": false,
     "start_time": "2022-11-06T21:28:58.488934",
     "status": "completed"
    },
    "tags": []
   },
   "outputs": [],
   "source": [
    "classification_report_fun(\"Random Forest\", Y_Test, Y_Pred_rf)"
   ]
  },
  {
   "cell_type": "markdown",
   "id": "a36ed792",
   "metadata": {
    "papermill": {
     "duration": 0.059538,
     "end_time": "2022-11-06T21:28:58.690133",
     "exception": false,
     "start_time": "2022-11-06T21:28:58.630595",
     "status": "completed"
    },
    "tags": []
   },
   "source": [
    "<h3>Use the ROC Curve and ROC AUC to Evaluate the model:</h3>"
   ]
  },
  {
   "cell_type": "code",
   "execution_count": null,
   "id": "a8df05a9",
   "metadata": {
    "execution": {
     "iopub.execute_input": "2022-11-06T21:28:58.811666Z",
     "iopub.status.busy": "2022-11-06T21:28:58.811225Z",
     "iopub.status.idle": "2022-11-06T21:28:58.879785Z",
     "shell.execute_reply": "2022-11-06T21:28:58.878635Z"
    },
    "papermill": {
     "duration": 0.132326,
     "end_time": "2022-11-06T21:28:58.882351",
     "exception": false,
     "start_time": "2022-11-06T21:28:58.750025",
     "status": "completed"
    },
    "tags": []
   },
   "outputs": [],
   "source": [
    "Y_Proba_rf = rf.predict_proba(X_Test)"
   ]
  },
  {
   "cell_type": "code",
   "execution_count": null,
   "id": "5fba3344",
   "metadata": {
    "execution": {
     "iopub.execute_input": "2022-11-06T21:28:59.006058Z",
     "iopub.status.busy": "2022-11-06T21:28:59.005631Z",
     "iopub.status.idle": "2022-11-06T21:29:55.816070Z",
     "shell.execute_reply": "2022-11-06T21:29:55.814800Z"
    },
    "papermill": {
     "duration": 56.875425,
     "end_time": "2022-11-06T21:29:55.818708",
     "exception": false,
     "start_time": "2022-11-06T21:28:58.943283",
     "status": "completed"
    },
    "tags": []
   },
   "outputs": [],
   "source": [
    "draw_pco(Y_Proba_rf, ['CF', 'CM', 'RW'])\n",
    "draw_pco(Y_Proba_rf, ['GK', 'CB', 'LW'])\n",
    "draw_pco(Y_Proba_rf, ['LM', 'LB','RM'])\n",
    "draw_pco(Y_Proba_rf, ['RB'])"
   ]
  },
  {
   "cell_type": "code",
   "execution_count": null,
   "id": "93068c6d",
   "metadata": {
    "execution": {
     "iopub.execute_input": "2022-11-06T21:29:55.950116Z",
     "iopub.status.busy": "2022-11-06T21:29:55.949187Z",
     "iopub.status.idle": "2022-11-06T21:29:55.971157Z",
     "shell.execute_reply": "2022-11-06T21:29:55.970423Z"
    },
    "papermill": {
     "duration": 0.089543,
     "end_time": "2022-11-06T21:29:55.973156",
     "exception": false,
     "start_time": "2022-11-06T21:29:55.883613",
     "status": "completed"
    },
    "tags": []
   },
   "outputs": [],
   "source": [
    "auc_score_rf = roc_auc_score(Y_Test, Y_Proba_rf, multi_class = 'ovr', average = 'macro')\n",
    "auc_score_rf"
   ]
  },
  {
   "cell_type": "code",
   "execution_count": null,
   "id": "cd931e00",
   "metadata": {
    "execution": {
     "iopub.execute_input": "2022-11-06T21:29:56.102532Z",
     "iopub.status.busy": "2022-11-06T21:29:56.101814Z",
     "iopub.status.idle": "2022-11-06T21:29:56.106011Z",
     "shell.execute_reply": "2022-11-06T21:29:56.105232Z"
    },
    "papermill": {
     "duration": 0.071648,
     "end_time": "2022-11-06T21:29:56.107999",
     "exception": false,
     "start_time": "2022-11-06T21:29:56.036351",
     "status": "completed"
    },
    "tags": []
   },
   "outputs": [],
   "source": [
    "models_auc_scores.append(auc_score_rf)"
   ]
  },
  {
   "cell_type": "markdown",
   "id": "597d1dcb",
   "metadata": {
    "papermill": {
     "duration": 0.063085,
     "end_time": "2022-11-06T21:29:56.233853",
     "exception": false,
     "start_time": "2022-11-06T21:29:56.170768",
     "status": "completed"
    },
    "tags": []
   },
   "source": [
    "<h3>3. XGB:</h3>"
   ]
  },
  {
   "cell_type": "code",
   "execution_count": null,
   "id": "bddec12b",
   "metadata": {
    "execution": {
     "iopub.execute_input": "2022-11-06T21:29:56.363860Z",
     "iopub.status.busy": "2022-11-06T21:29:56.363155Z",
     "iopub.status.idle": "2022-11-06T21:29:56.479101Z",
     "shell.execute_reply": "2022-11-06T21:29:56.477932Z"
    },
    "papermill": {
     "duration": 0.184577,
     "end_time": "2022-11-06T21:29:56.481892",
     "exception": false,
     "start_time": "2022-11-06T21:29:56.297315",
     "status": "completed"
    },
    "tags": []
   },
   "outputs": [],
   "source": [
    "from xgboost import XGBClassifier\n",
    "\n",
    "xgb = XGBClassifier()"
   ]
  },
  {
   "cell_type": "code",
   "execution_count": null,
   "id": "800cd843",
   "metadata": {
    "execution": {
     "iopub.execute_input": "2022-11-06T21:29:56.610167Z",
     "iopub.status.busy": "2022-11-06T21:29:56.609759Z",
     "iopub.status.idle": "2022-11-06T21:30:33.686560Z",
     "shell.execute_reply": "2022-11-06T21:30:33.685401Z"
    },
    "papermill": {
     "duration": 37.208268,
     "end_time": "2022-11-06T21:30:33.753474",
     "exception": false,
     "start_time": "2022-11-06T21:29:56.545206",
     "status": "completed"
    },
    "tags": []
   },
   "outputs": [],
   "source": [
    "xgb.fit(X_Train, Y_Train)"
   ]
  },
  {
   "cell_type": "code",
   "execution_count": null,
   "id": "3f31dc20",
   "metadata": {
    "execution": {
     "iopub.execute_input": "2022-11-06T21:30:33.882916Z",
     "iopub.status.busy": "2022-11-06T21:30:33.882543Z",
     "iopub.status.idle": "2022-11-06T21:30:34.187390Z",
     "shell.execute_reply": "2022-11-06T21:30:34.186383Z"
    },
    "papermill": {
     "duration": 0.37236,
     "end_time": "2022-11-06T21:30:34.190018",
     "exception": false,
     "start_time": "2022-11-06T21:30:33.817658",
     "status": "completed"
    },
    "tags": []
   },
   "outputs": [],
   "source": [
    "xgb.score(X_Train, Y_Train)"
   ]
  },
  {
   "cell_type": "code",
   "execution_count": null,
   "id": "8a8a32e3",
   "metadata": {
    "execution": {
     "iopub.execute_input": "2022-11-06T21:30:34.321687Z",
     "iopub.status.busy": "2022-11-06T21:30:34.321035Z",
     "iopub.status.idle": "2022-11-06T21:30:34.375213Z",
     "shell.execute_reply": "2022-11-06T21:30:34.374161Z"
    },
    "papermill": {
     "duration": 0.121994,
     "end_time": "2022-11-06T21:30:34.377577",
     "exception": false,
     "start_time": "2022-11-06T21:30:34.255583",
     "status": "completed"
    },
    "tags": []
   },
   "outputs": [],
   "source": [
    "xgb.score(X_Test, Y_Test)"
   ]
  },
  {
   "cell_type": "code",
   "execution_count": null,
   "id": "02b0802c",
   "metadata": {
    "execution": {
     "iopub.execute_input": "2022-11-06T21:30:34.509694Z",
     "iopub.status.busy": "2022-11-06T21:30:34.509253Z",
     "iopub.status.idle": "2022-11-06T21:30:34.558540Z",
     "shell.execute_reply": "2022-11-06T21:30:34.557543Z"
    },
    "papermill": {
     "duration": 0.117835,
     "end_time": "2022-11-06T21:30:34.561152",
     "exception": false,
     "start_time": "2022-11-06T21:30:34.443317",
     "status": "completed"
    },
    "tags": []
   },
   "outputs": [],
   "source": [
    "Y_Pred_xgb = xgb.predict(X_Test)"
   ]
  },
  {
   "cell_type": "code",
   "execution_count": null,
   "id": "8ff8c709",
   "metadata": {
    "execution": {
     "iopub.execute_input": "2022-11-06T21:30:34.693823Z",
     "iopub.status.busy": "2022-11-06T21:30:34.693423Z",
     "iopub.status.idle": "2022-11-06T21:30:34.743187Z",
     "shell.execute_reply": "2022-11-06T21:30:34.742286Z"
    },
    "papermill": {
     "duration": 0.118218,
     "end_time": "2022-11-06T21:30:34.745756",
     "exception": false,
     "start_time": "2022-11-06T21:30:34.627538",
     "status": "completed"
    },
    "tags": []
   },
   "outputs": [],
   "source": [
    "models_names.append(\"XGB\")\n",
    "models_scores.append(xgb.score(X_Test, Y_Test))"
   ]
  },
  {
   "cell_type": "code",
   "execution_count": null,
   "id": "2cd4ec2e",
   "metadata": {
    "execution": {
     "iopub.execute_input": "2022-11-06T21:30:34.879775Z",
     "iopub.status.busy": "2022-11-06T21:30:34.878422Z",
     "iopub.status.idle": "2022-11-06T21:30:34.899668Z",
     "shell.execute_reply": "2022-11-06T21:30:34.898152Z"
    },
    "papermill": {
     "duration": 0.090912,
     "end_time": "2022-11-06T21:30:34.903071",
     "exception": false,
     "start_time": "2022-11-06T21:30:34.812159",
     "status": "completed"
    },
    "tags": []
   },
   "outputs": [],
   "source": [
    "classification_report_fun(\"XGB\", Y_Test, Y_Pred_xgb)"
   ]
  },
  {
   "cell_type": "markdown",
   "id": "c1ce8340",
   "metadata": {
    "papermill": {
     "duration": 0.065557,
     "end_time": "2022-11-06T21:30:35.039470",
     "exception": false,
     "start_time": "2022-11-06T21:30:34.973913",
     "status": "completed"
    },
    "tags": []
   },
   "source": [
    "<h3>Use the ROC Curve and ROC AUC to Evaluate the model:</h3>"
   ]
  },
  {
   "cell_type": "code",
   "execution_count": null,
   "id": "97efe16e",
   "metadata": {
    "execution": {
     "iopub.execute_input": "2022-11-06T21:30:35.171346Z",
     "iopub.status.busy": "2022-11-06T21:30:35.170624Z",
     "iopub.status.idle": "2022-11-06T21:30:35.220680Z",
     "shell.execute_reply": "2022-11-06T21:30:35.219752Z"
    },
    "papermill": {
     "duration": 0.119302,
     "end_time": "2022-11-06T21:30:35.223226",
     "exception": false,
     "start_time": "2022-11-06T21:30:35.103924",
     "status": "completed"
    },
    "tags": []
   },
   "outputs": [],
   "source": [
    "Y_Proba_xgb = xgb.predict_proba(X_Test)"
   ]
  },
  {
   "cell_type": "code",
   "execution_count": null,
   "id": "032f5457",
   "metadata": {
    "execution": {
     "iopub.execute_input": "2022-11-06T21:30:35.354795Z",
     "iopub.status.busy": "2022-11-06T21:30:35.354326Z",
     "iopub.status.idle": "2022-11-06T21:32:09.499211Z",
     "shell.execute_reply": "2022-11-06T21:32:09.498074Z"
    },
    "papermill": {
     "duration": 94.212816,
     "end_time": "2022-11-06T21:32:09.502116",
     "exception": false,
     "start_time": "2022-11-06T21:30:35.289300",
     "status": "completed"
    },
    "tags": []
   },
   "outputs": [],
   "source": [
    "draw_pco(Y_Proba_xgb, ['CF', 'CM', 'RW'])\n",
    "draw_pco(Y_Proba_xgb, ['GK', 'CB', 'LW'])\n",
    "draw_pco(Y_Proba_xgb, ['LM', 'LB','RM'])\n",
    "draw_pco(Y_Proba_xgb, ['RB'])"
   ]
  },
  {
   "cell_type": "code",
   "execution_count": null,
   "id": "8922a5d6",
   "metadata": {
    "execution": {
     "iopub.execute_input": "2022-11-06T21:32:09.640674Z",
     "iopub.status.busy": "2022-11-06T21:32:09.640237Z",
     "iopub.status.idle": "2022-11-06T21:32:09.665582Z",
     "shell.execute_reply": "2022-11-06T21:32:09.664570Z"
    },
    "papermill": {
     "duration": 0.09742,
     "end_time": "2022-11-06T21:32:09.668018",
     "exception": false,
     "start_time": "2022-11-06T21:32:09.570598",
     "status": "completed"
    },
    "tags": []
   },
   "outputs": [],
   "source": [
    "auc_score_xgb = roc_auc_score(Y_Test, Y_Proba_xgb, multi_class = 'ovr', average = 'macro')\n",
    "auc_score_xgb"
   ]
  },
  {
   "cell_type": "code",
   "execution_count": null,
   "id": "875508db",
   "metadata": {
    "execution": {
     "iopub.execute_input": "2022-11-06T21:32:09.805197Z",
     "iopub.status.busy": "2022-11-06T21:32:09.804805Z",
     "iopub.status.idle": "2022-11-06T21:32:09.809481Z",
     "shell.execute_reply": "2022-11-06T21:32:09.808407Z"
    },
    "papermill": {
     "duration": 0.075871,
     "end_time": "2022-11-06T21:32:09.811765",
     "exception": false,
     "start_time": "2022-11-06T21:32:09.735894",
     "status": "completed"
    },
    "tags": []
   },
   "outputs": [],
   "source": [
    "models_auc_scores.append(auc_score_xgb)"
   ]
  },
  {
   "cell_type": "markdown",
   "id": "a09d0651",
   "metadata": {
    "papermill": {
     "duration": 0.066563,
     "end_time": "2022-11-06T21:32:09.945764",
     "exception": false,
     "start_time": "2022-11-06T21:32:09.879201",
     "status": "completed"
    },
    "tags": []
   },
   "source": [
    "<h3>4. Decision Tree:</h3>"
   ]
  },
  {
   "cell_type": "code",
   "execution_count": null,
   "id": "28ae6062",
   "metadata": {
    "execution": {
     "iopub.execute_input": "2022-11-06T21:32:10.083110Z",
     "iopub.status.busy": "2022-11-06T21:32:10.082305Z",
     "iopub.status.idle": "2022-11-06T21:32:10.087514Z",
     "shell.execute_reply": "2022-11-06T21:32:10.086761Z"
    },
    "papermill": {
     "duration": 0.076708,
     "end_time": "2022-11-06T21:32:10.089651",
     "exception": false,
     "start_time": "2022-11-06T21:32:10.012943",
     "status": "completed"
    },
    "tags": []
   },
   "outputs": [],
   "source": [
    "from sklearn.tree  import DecisionTreeClassifier\n",
    "\n",
    "dt = DecisionTreeClassifier(max_features = 39,max_depth = 10)"
   ]
  },
  {
   "cell_type": "code",
   "execution_count": null,
   "id": "d1c04502",
   "metadata": {
    "execution": {
     "iopub.execute_input": "2022-11-06T21:32:10.226972Z",
     "iopub.status.busy": "2022-11-06T21:32:10.226255Z",
     "iopub.status.idle": "2022-11-06T21:32:10.677644Z",
     "shell.execute_reply": "2022-11-06T21:32:10.676318Z"
    },
    "papermill": {
     "duration": 0.523235,
     "end_time": "2022-11-06T21:32:10.680108",
     "exception": false,
     "start_time": "2022-11-06T21:32:10.156873",
     "status": "completed"
    },
    "tags": []
   },
   "outputs": [],
   "source": [
    "dt.fit(X_Train, Y_Train)"
   ]
  },
  {
   "cell_type": "code",
   "execution_count": null,
   "id": "f26af680",
   "metadata": {
    "execution": {
     "iopub.execute_input": "2022-11-06T21:32:10.817926Z",
     "iopub.status.busy": "2022-11-06T21:32:10.817274Z",
     "iopub.status.idle": "2022-11-06T21:32:10.833826Z",
     "shell.execute_reply": "2022-11-06T21:32:10.832665Z"
    },
    "papermill": {
     "duration": 0.088364,
     "end_time": "2022-11-06T21:32:10.836089",
     "exception": false,
     "start_time": "2022-11-06T21:32:10.747725",
     "status": "completed"
    },
    "tags": []
   },
   "outputs": [],
   "source": [
    "dt.score(X_Train, Y_Train)"
   ]
  },
  {
   "cell_type": "code",
   "execution_count": null,
   "id": "9264e49b",
   "metadata": {
    "execution": {
     "iopub.execute_input": "2022-11-06T21:32:10.972795Z",
     "iopub.status.busy": "2022-11-06T21:32:10.972078Z",
     "iopub.status.idle": "2022-11-06T21:32:10.981108Z",
     "shell.execute_reply": "2022-11-06T21:32:10.980021Z"
    },
    "papermill": {
     "duration": 0.079513,
     "end_time": "2022-11-06T21:32:10.983272",
     "exception": false,
     "start_time": "2022-11-06T21:32:10.903759",
     "status": "completed"
    },
    "tags": []
   },
   "outputs": [],
   "source": [
    "dt.score(X_Test, Y_Test)"
   ]
  },
  {
   "cell_type": "code",
   "execution_count": null,
   "id": "8e9d58e0",
   "metadata": {
    "execution": {
     "iopub.execute_input": "2022-11-06T21:32:11.122161Z",
     "iopub.status.busy": "2022-11-06T21:32:11.121040Z",
     "iopub.status.idle": "2022-11-06T21:32:11.128031Z",
     "shell.execute_reply": "2022-11-06T21:32:11.127107Z"
    },
    "papermill": {
     "duration": 0.079159,
     "end_time": "2022-11-06T21:32:11.130358",
     "exception": false,
     "start_time": "2022-11-06T21:32:11.051199",
     "status": "completed"
    },
    "tags": []
   },
   "outputs": [],
   "source": [
    "Y_Pred_dt = dt.predict(X_Test)"
   ]
  },
  {
   "cell_type": "code",
   "execution_count": null,
   "id": "dfed9879",
   "metadata": {
    "execution": {
     "iopub.execute_input": "2022-11-06T21:32:11.271107Z",
     "iopub.status.busy": "2022-11-06T21:32:11.270718Z",
     "iopub.status.idle": "2022-11-06T21:32:11.277121Z",
     "shell.execute_reply": "2022-11-06T21:32:11.276232Z"
    },
    "papermill": {
     "duration": 0.079135,
     "end_time": "2022-11-06T21:32:11.279330",
     "exception": false,
     "start_time": "2022-11-06T21:32:11.200195",
     "status": "completed"
    },
    "tags": []
   },
   "outputs": [],
   "source": [
    "models_names.append(\"Decision Tree\")\n",
    "models_scores.append(dt.score(X_Test, Y_Test))"
   ]
  },
  {
   "cell_type": "code",
   "execution_count": null,
   "id": "7adff069",
   "metadata": {
    "execution": {
     "iopub.execute_input": "2022-11-06T21:32:11.416204Z",
     "iopub.status.busy": "2022-11-06T21:32:11.415819Z",
     "iopub.status.idle": "2022-11-06T21:32:11.435248Z",
     "shell.execute_reply": "2022-11-06T21:32:11.433888Z"
    },
    "papermill": {
     "duration": 0.090922,
     "end_time": "2022-11-06T21:32:11.437797",
     "exception": false,
     "start_time": "2022-11-06T21:32:11.346875",
     "status": "completed"
    },
    "tags": []
   },
   "outputs": [],
   "source": [
    "classification_report_fun(\"Decision Tree\", Y_Test, Y_Pred_dt)"
   ]
  },
  {
   "cell_type": "markdown",
   "id": "c0adc488",
   "metadata": {
    "papermill": {
     "duration": 0.068267,
     "end_time": "2022-11-06T21:32:11.574006",
     "exception": false,
     "start_time": "2022-11-06T21:32:11.505739",
     "status": "completed"
    },
    "tags": []
   },
   "source": [
    "<h3>Use the ROC Curve and ROC AUC to Evaluate the model:</h3>"
   ]
  },
  {
   "cell_type": "code",
   "execution_count": null,
   "id": "91c4f7da",
   "metadata": {
    "execution": {
     "iopub.execute_input": "2022-11-06T21:32:11.712436Z",
     "iopub.status.busy": "2022-11-06T21:32:11.711794Z",
     "iopub.status.idle": "2022-11-06T21:32:11.718001Z",
     "shell.execute_reply": "2022-11-06T21:32:11.717249Z"
    },
    "papermill": {
     "duration": 0.078205,
     "end_time": "2022-11-06T21:32:11.720083",
     "exception": false,
     "start_time": "2022-11-06T21:32:11.641878",
     "status": "completed"
    },
    "tags": []
   },
   "outputs": [],
   "source": [
    "Y_Proba_dt = dt.predict_proba(X_Test)"
   ]
  },
  {
   "cell_type": "code",
   "execution_count": null,
   "id": "2e599cdb",
   "metadata": {
    "execution": {
     "iopub.execute_input": "2022-11-06T21:32:11.913629Z",
     "iopub.status.busy": "2022-11-06T21:32:11.912860Z",
     "iopub.status.idle": "2022-11-06T21:33:17.395443Z",
     "shell.execute_reply": "2022-11-06T21:33:17.394357Z"
    },
    "papermill": {
     "duration": 65.553635,
     "end_time": "2022-11-06T21:33:17.397751",
     "exception": false,
     "start_time": "2022-11-06T21:32:11.844116",
     "status": "completed"
    },
    "tags": []
   },
   "outputs": [],
   "source": [
    "draw_pco(Y_Proba_dt, ['CF', 'CM', 'RW'])\n",
    "draw_pco(Y_Proba_dt, ['GK', 'CB', 'LW'])\n",
    "draw_pco(Y_Proba_dt, ['LM', 'LB','RM'])\n",
    "draw_pco(Y_Proba_dt, ['RB'])"
   ]
  },
  {
   "cell_type": "code",
   "execution_count": null,
   "id": "45a3cab3",
   "metadata": {
    "execution": {
     "iopub.execute_input": "2022-11-06T21:33:17.546530Z",
     "iopub.status.busy": "2022-11-06T21:33:17.546073Z",
     "iopub.status.idle": "2022-11-06T21:33:17.568671Z",
     "shell.execute_reply": "2022-11-06T21:33:17.567220Z"
    },
    "papermill": {
     "duration": 0.099081,
     "end_time": "2022-11-06T21:33:17.570996",
     "exception": false,
     "start_time": "2022-11-06T21:33:17.471915",
     "status": "completed"
    },
    "tags": []
   },
   "outputs": [],
   "source": [
    "auc_score_dt = roc_auc_score(Y_Test, Y_Proba_dt, multi_class = 'ovr', average = 'macro')\n",
    "auc_score_dt"
   ]
  },
  {
   "cell_type": "code",
   "execution_count": null,
   "id": "437fb636",
   "metadata": {
    "execution": {
     "iopub.execute_input": "2022-11-06T21:33:17.716297Z",
     "iopub.status.busy": "2022-11-06T21:33:17.715897Z",
     "iopub.status.idle": "2022-11-06T21:33:17.720569Z",
     "shell.execute_reply": "2022-11-06T21:33:17.719501Z"
    },
    "papermill": {
     "duration": 0.08072,
     "end_time": "2022-11-06T21:33:17.722896",
     "exception": false,
     "start_time": "2022-11-06T21:33:17.642176",
     "status": "completed"
    },
    "tags": []
   },
   "outputs": [],
   "source": [
    "models_auc_scores.append(auc_score_dt)"
   ]
  },
  {
   "cell_type": "markdown",
   "id": "aec6599b",
   "metadata": {
    "papermill": {
     "duration": 0.071936,
     "end_time": "2022-11-06T21:33:17.867929",
     "exception": false,
     "start_time": "2022-11-06T21:33:17.795993",
     "status": "completed"
    },
    "tags": []
   },
   "source": [
    "<h3>5. Adaboost:</h3>"
   ]
  },
  {
   "cell_type": "code",
   "execution_count": null,
   "id": "0a839e50",
   "metadata": {
    "execution": {
     "iopub.execute_input": "2022-11-06T21:33:18.013581Z",
     "iopub.status.busy": "2022-11-06T21:33:18.013133Z",
     "iopub.status.idle": "2022-11-06T21:33:18.017246Z",
     "shell.execute_reply": "2022-11-06T21:33:18.016523Z"
    },
    "papermill": {
     "duration": 0.079669,
     "end_time": "2022-11-06T21:33:18.019222",
     "exception": false,
     "start_time": "2022-11-06T21:33:17.939553",
     "status": "completed"
    },
    "tags": []
   },
   "outputs": [],
   "source": [
    "from sklearn.ensemble import AdaBoostClassifier\n",
    "\n",
    "ada = AdaBoostClassifier()"
   ]
  },
  {
   "cell_type": "code",
   "execution_count": null,
   "id": "4991322c",
   "metadata": {
    "execution": {
     "iopub.execute_input": "2022-11-06T21:33:18.166801Z",
     "iopub.status.busy": "2022-11-06T21:33:18.165613Z",
     "iopub.status.idle": "2022-11-06T21:33:22.870346Z",
     "shell.execute_reply": "2022-11-06T21:33:22.869151Z"
    },
    "papermill": {
     "duration": 4.78136,
     "end_time": "2022-11-06T21:33:22.872942",
     "exception": false,
     "start_time": "2022-11-06T21:33:18.091582",
     "status": "completed"
    },
    "tags": []
   },
   "outputs": [],
   "source": [
    "ada.fit(X_Train, Y_Train)"
   ]
  },
  {
   "cell_type": "code",
   "execution_count": null,
   "id": "b07625f2",
   "metadata": {
    "execution": {
     "iopub.execute_input": "2022-11-06T21:33:23.018225Z",
     "iopub.status.busy": "2022-11-06T21:33:23.017563Z",
     "iopub.status.idle": "2022-11-06T21:33:23.510591Z",
     "shell.execute_reply": "2022-11-06T21:33:23.509527Z"
    },
    "papermill": {
     "duration": 0.568904,
     "end_time": "2022-11-06T21:33:23.513339",
     "exception": false,
     "start_time": "2022-11-06T21:33:22.944435",
     "status": "completed"
    },
    "tags": []
   },
   "outputs": [],
   "source": [
    "ada.score(X_Train, Y_Train)"
   ]
  },
  {
   "cell_type": "code",
   "execution_count": null,
   "id": "8fc24266",
   "metadata": {
    "execution": {
     "iopub.execute_input": "2022-11-06T21:33:23.659710Z",
     "iopub.status.busy": "2022-11-06T21:33:23.658676Z",
     "iopub.status.idle": "2022-11-06T21:33:23.735933Z",
     "shell.execute_reply": "2022-11-06T21:33:23.734904Z"
    },
    "papermill": {
     "duration": 0.15379,
     "end_time": "2022-11-06T21:33:23.738417",
     "exception": false,
     "start_time": "2022-11-06T21:33:23.584627",
     "status": "completed"
    },
    "tags": []
   },
   "outputs": [],
   "source": [
    "ada.score(X_Test, Y_Test)"
   ]
  },
  {
   "cell_type": "code",
   "execution_count": null,
   "id": "068f9d15",
   "metadata": {
    "execution": {
     "iopub.execute_input": "2022-11-06T21:33:23.885290Z",
     "iopub.status.busy": "2022-11-06T21:33:23.884909Z",
     "iopub.status.idle": "2022-11-06T21:33:23.890163Z",
     "shell.execute_reply": "2022-11-06T21:33:23.889419Z"
    },
    "papermill": {
     "duration": 0.081356,
     "end_time": "2022-11-06T21:33:23.892173",
     "exception": false,
     "start_time": "2022-11-06T21:33:23.810817",
     "status": "completed"
    },
    "tags": []
   },
   "outputs": [],
   "source": [
    "Y_Pred_ada = dt.predict(X_Test)"
   ]
  },
  {
   "cell_type": "code",
   "execution_count": null,
   "id": "d02550f4",
   "metadata": {
    "execution": {
     "iopub.execute_input": "2022-11-06T21:33:24.037302Z",
     "iopub.status.busy": "2022-11-06T21:33:24.036905Z",
     "iopub.status.idle": "2022-11-06T21:33:24.113185Z",
     "shell.execute_reply": "2022-11-06T21:33:24.112061Z"
    },
    "papermill": {
     "duration": 0.151769,
     "end_time": "2022-11-06T21:33:24.115894",
     "exception": false,
     "start_time": "2022-11-06T21:33:23.964125",
     "status": "completed"
    },
    "tags": []
   },
   "outputs": [],
   "source": [
    "models_names.append(\"Adaboost\")\n",
    "models_scores.append(ada.score(X_Test, Y_Test))"
   ]
  },
  {
   "cell_type": "code",
   "execution_count": null,
   "id": "2ac666fb",
   "metadata": {
    "execution": {
     "iopub.execute_input": "2022-11-06T21:33:24.261077Z",
     "iopub.status.busy": "2022-11-06T21:33:24.260716Z",
     "iopub.status.idle": "2022-11-06T21:33:24.278845Z",
     "shell.execute_reply": "2022-11-06T21:33:24.277171Z"
    },
    "papermill": {
     "duration": 0.094161,
     "end_time": "2022-11-06T21:33:24.281228",
     "exception": false,
     "start_time": "2022-11-06T21:33:24.187067",
     "status": "completed"
    },
    "tags": []
   },
   "outputs": [],
   "source": [
    "classification_report_fun(\"Adaboost\", Y_Test, Y_Pred_ada)"
   ]
  },
  {
   "cell_type": "markdown",
   "id": "ad8208a5",
   "metadata": {
    "papermill": {
     "duration": 0.07113,
     "end_time": "2022-11-06T21:33:24.423641",
     "exception": false,
     "start_time": "2022-11-06T21:33:24.352511",
     "status": "completed"
    },
    "tags": []
   },
   "source": [
    "<h3>Use the ROC Curve and ROC AUC to Evaluate the model:</h3>"
   ]
  },
  {
   "cell_type": "code",
   "execution_count": null,
   "id": "704fd283",
   "metadata": {
    "execution": {
     "iopub.execute_input": "2022-11-06T21:33:24.569446Z",
     "iopub.status.busy": "2022-11-06T21:33:24.569028Z",
     "iopub.status.idle": "2022-11-06T21:33:24.644675Z",
     "shell.execute_reply": "2022-11-06T21:33:24.643837Z"
    },
    "papermill": {
     "duration": 0.151712,
     "end_time": "2022-11-06T21:33:24.647140",
     "exception": false,
     "start_time": "2022-11-06T21:33:24.495428",
     "status": "completed"
    },
    "tags": []
   },
   "outputs": [],
   "source": [
    "Y_Proba_ada = ada.predict_proba(X_Test)"
   ]
  },
  {
   "cell_type": "code",
   "execution_count": null,
   "id": "3685e3f2",
   "metadata": {
    "execution": {
     "iopub.execute_input": "2022-11-06T21:33:24.791938Z",
     "iopub.status.busy": "2022-11-06T21:33:24.791539Z",
     "iopub.status.idle": "2022-11-06T21:35:55.885035Z",
     "shell.execute_reply": "2022-11-06T21:35:55.883921Z"
    },
    "papermill": {
     "duration": 151.168702,
     "end_time": "2022-11-06T21:35:55.887440",
     "exception": false,
     "start_time": "2022-11-06T21:33:24.718738",
     "status": "completed"
    },
    "tags": []
   },
   "outputs": [],
   "source": [
    "draw_pco(Y_Proba_ada, ['CF', 'CM', 'RW'])\n",
    "draw_pco(Y_Proba_ada, ['GK', 'CB', 'LW'])\n",
    "draw_pco(Y_Proba_ada, ['LM', 'LB','RM'])\n",
    "draw_pco(Y_Proba_ada, ['RB'])"
   ]
  },
  {
   "cell_type": "code",
   "execution_count": null,
   "id": "be576e2a",
   "metadata": {
    "execution": {
     "iopub.execute_input": "2022-11-06T21:35:56.058357Z",
     "iopub.status.busy": "2022-11-06T21:35:56.057734Z",
     "iopub.status.idle": "2022-11-06T21:35:56.079767Z",
     "shell.execute_reply": "2022-11-06T21:35:56.078733Z"
    },
    "papermill": {
     "duration": 0.110103,
     "end_time": "2022-11-06T21:35:56.082250",
     "exception": false,
     "start_time": "2022-11-06T21:35:55.972147",
     "status": "completed"
    },
    "tags": []
   },
   "outputs": [],
   "source": [
    "auc_score_ada = roc_auc_score(Y_Test, Y_Proba_ada, multi_class = 'ovr', average = 'macro')"
   ]
  },
  {
   "cell_type": "code",
   "execution_count": null,
   "id": "fefc51f5",
   "metadata": {
    "execution": {
     "iopub.execute_input": "2022-11-06T21:35:56.232582Z",
     "iopub.status.busy": "2022-11-06T21:35:56.232167Z",
     "iopub.status.idle": "2022-11-06T21:35:56.236263Z",
     "shell.execute_reply": "2022-11-06T21:35:56.235525Z"
    },
    "papermill": {
     "duration": 0.081582,
     "end_time": "2022-11-06T21:35:56.238090",
     "exception": false,
     "start_time": "2022-11-06T21:35:56.156508",
     "status": "completed"
    },
    "tags": []
   },
   "outputs": [],
   "source": [
    "models_auc_scores.append(auc_score_ada)"
   ]
  },
  {
   "cell_type": "markdown",
   "id": "5f9ab322",
   "metadata": {
    "papermill": {
     "duration": 0.074321,
     "end_time": "2022-11-06T21:35:56.386959",
     "exception": false,
     "start_time": "2022-11-06T21:35:56.312638",
     "status": "completed"
    },
    "tags": []
   },
   "source": [
    "<h3>6. light GBM:</h3>"
   ]
  },
  {
   "cell_type": "code",
   "execution_count": null,
   "id": "fe2a8728",
   "metadata": {
    "execution": {
     "iopub.execute_input": "2022-11-06T21:35:56.538735Z",
     "iopub.status.busy": "2022-11-06T21:35:56.537932Z",
     "iopub.status.idle": "2022-11-06T21:35:57.325409Z",
     "shell.execute_reply": "2022-11-06T21:35:57.324431Z"
    },
    "papermill": {
     "duration": 0.866063,
     "end_time": "2022-11-06T21:35:57.328064",
     "exception": false,
     "start_time": "2022-11-06T21:35:56.462001",
     "status": "completed"
    },
    "tags": []
   },
   "outputs": [],
   "source": [
    "from lightgbm import LGBMClassifier\n",
    "\n",
    "lgbm = LGBMClassifier(max_depth = 15)"
   ]
  },
  {
   "cell_type": "code",
   "execution_count": null,
   "id": "b1d498bd",
   "metadata": {
    "execution": {
     "iopub.execute_input": "2022-11-06T21:35:57.479901Z",
     "iopub.status.busy": "2022-11-06T21:35:57.478863Z",
     "iopub.status.idle": "2022-11-06T21:36:05.260266Z",
     "shell.execute_reply": "2022-11-06T21:36:05.259425Z"
    },
    "papermill": {
     "duration": 7.860265,
     "end_time": "2022-11-06T21:36:05.262834",
     "exception": false,
     "start_time": "2022-11-06T21:35:57.402569",
     "status": "completed"
    },
    "tags": []
   },
   "outputs": [],
   "source": [
    "lgbm.fit(X_Train, Y_Train)"
   ]
  },
  {
   "cell_type": "code",
   "execution_count": null,
   "id": "7dca0e69",
   "metadata": {
    "execution": {
     "iopub.execute_input": "2022-11-06T21:36:05.415877Z",
     "iopub.status.busy": "2022-11-06T21:36:05.415270Z",
     "iopub.status.idle": "2022-11-06T21:36:06.265760Z",
     "shell.execute_reply": "2022-11-06T21:36:06.264862Z"
    },
    "papermill": {
     "duration": 0.92925,
     "end_time": "2022-11-06T21:36:06.268512",
     "exception": false,
     "start_time": "2022-11-06T21:36:05.339262",
     "status": "completed"
    },
    "tags": []
   },
   "outputs": [],
   "source": [
    "lgbm.score(X_Train, Y_Train)"
   ]
  },
  {
   "cell_type": "code",
   "execution_count": null,
   "id": "2f9d9a7c",
   "metadata": {
    "execution": {
     "iopub.execute_input": "2022-11-06T21:36:06.422939Z",
     "iopub.status.busy": "2022-11-06T21:36:06.422523Z",
     "iopub.status.idle": "2022-11-06T21:36:06.541490Z",
     "shell.execute_reply": "2022-11-06T21:36:06.540438Z"
    },
    "papermill": {
     "duration": 0.198015,
     "end_time": "2022-11-06T21:36:06.544109",
     "exception": false,
     "start_time": "2022-11-06T21:36:06.346094",
     "status": "completed"
    },
    "tags": []
   },
   "outputs": [],
   "source": [
    "lgbm.score(X_Test, Y_Test)"
   ]
  },
  {
   "cell_type": "code",
   "execution_count": null,
   "id": "301b166c",
   "metadata": {
    "execution": {
     "iopub.execute_input": "2022-11-06T21:36:06.698209Z",
     "iopub.status.busy": "2022-11-06T21:36:06.697399Z",
     "iopub.status.idle": "2022-11-06T21:36:06.814228Z",
     "shell.execute_reply": "2022-11-06T21:36:06.813322Z"
    },
    "papermill": {
     "duration": 0.196691,
     "end_time": "2022-11-06T21:36:06.817026",
     "exception": false,
     "start_time": "2022-11-06T21:36:06.620335",
     "status": "completed"
    },
    "tags": []
   },
   "outputs": [],
   "source": [
    "Y_Pred_lgbm = lgbm.predict(X_Test)"
   ]
  },
  {
   "cell_type": "code",
   "execution_count": null,
   "id": "30e27505",
   "metadata": {
    "execution": {
     "iopub.execute_input": "2022-11-06T21:36:06.993890Z",
     "iopub.status.busy": "2022-11-06T21:36:06.993501Z",
     "iopub.status.idle": "2022-11-06T21:36:07.127852Z",
     "shell.execute_reply": "2022-11-06T21:36:07.126789Z"
    },
    "papermill": {
     "duration": 0.236646,
     "end_time": "2022-11-06T21:36:07.130527",
     "exception": false,
     "start_time": "2022-11-06T21:36:06.893881",
     "status": "completed"
    },
    "tags": []
   },
   "outputs": [],
   "source": [
    "models_names.append(\"light GBM\")\n",
    "models_scores.append(lgbm.score(X_Test, Y_Test))"
   ]
  },
  {
   "cell_type": "code",
   "execution_count": null,
   "id": "99e1da90",
   "metadata": {
    "execution": {
     "iopub.execute_input": "2022-11-06T21:36:07.284968Z",
     "iopub.status.busy": "2022-11-06T21:36:07.284598Z",
     "iopub.status.idle": "2022-11-06T21:36:07.304148Z",
     "shell.execute_reply": "2022-11-06T21:36:07.302376Z"
    },
    "papermill": {
     "duration": 0.098522,
     "end_time": "2022-11-06T21:36:07.306588",
     "exception": false,
     "start_time": "2022-11-06T21:36:07.208066",
     "status": "completed"
    },
    "tags": []
   },
   "outputs": [],
   "source": [
    "classification_report_fun(\"light GBM\", Y_Test, Y_Pred_lgbm)"
   ]
  },
  {
   "cell_type": "markdown",
   "id": "e5bc886f",
   "metadata": {
    "papermill": {
     "duration": 0.075211,
     "end_time": "2022-11-06T21:36:07.459095",
     "exception": false,
     "start_time": "2022-11-06T21:36:07.383884",
     "status": "completed"
    },
    "tags": []
   },
   "source": [
    "<h3>Use the ROC Curve and ROC AUC to Evaluate the model:</h3>"
   ]
  },
  {
   "cell_type": "code",
   "execution_count": null,
   "id": "a0ffb63e",
   "metadata": {
    "execution": {
     "iopub.execute_input": "2022-11-06T21:36:07.612068Z",
     "iopub.status.busy": "2022-11-06T21:36:07.611649Z",
     "iopub.status.idle": "2022-11-06T21:36:07.735228Z",
     "shell.execute_reply": "2022-11-06T21:36:07.734298Z"
    },
    "papermill": {
     "duration": 0.203083,
     "end_time": "2022-11-06T21:36:07.738015",
     "exception": false,
     "start_time": "2022-11-06T21:36:07.534932",
     "status": "completed"
    },
    "tags": []
   },
   "outputs": [],
   "source": [
    "Y_Proba_lgbm = lgbm.predict_proba(X_Test)"
   ]
  },
  {
   "cell_type": "code",
   "execution_count": null,
   "id": "54df14b4",
   "metadata": {
    "execution": {
     "iopub.execute_input": "2022-11-06T21:36:07.896167Z",
     "iopub.status.busy": "2022-11-06T21:36:07.895764Z",
     "iopub.status.idle": "2022-11-06T21:37:34.210144Z",
     "shell.execute_reply": "2022-11-06T21:37:34.209412Z"
    },
    "papermill": {
     "duration": 86.39643,
     "end_time": "2022-11-06T21:37:34.212191",
     "exception": false,
     "start_time": "2022-11-06T21:36:07.815761",
     "status": "completed"
    },
    "tags": []
   },
   "outputs": [],
   "source": [
    "draw_pco(Y_Proba_lgbm, ['CF', 'CM', 'RW'])\n",
    "draw_pco(Y_Proba_lgbm, ['GK', 'CB', 'LW'])\n",
    "draw_pco(Y_Proba_lgbm, ['LM', 'LB','RM'])\n",
    "draw_pco(Y_Proba_lgbm, ['RB'])"
   ]
  },
  {
   "cell_type": "code",
   "execution_count": null,
   "id": "987dc9b3",
   "metadata": {
    "execution": {
     "iopub.execute_input": "2022-11-06T21:37:34.374649Z",
     "iopub.status.busy": "2022-11-06T21:37:34.373545Z",
     "iopub.status.idle": "2022-11-06T21:37:34.398811Z",
     "shell.execute_reply": "2022-11-06T21:37:34.397689Z"
    },
    "papermill": {
     "duration": 0.108486,
     "end_time": "2022-11-06T21:37:34.400883",
     "exception": false,
     "start_time": "2022-11-06T21:37:34.292397",
     "status": "completed"
    },
    "tags": []
   },
   "outputs": [],
   "source": [
    "auc_score_lgbm = roc_auc_score(Y_Test, Y_Proba_lgbm, multi_class = 'ovr', average = 'macro')\n",
    "auc_score_lgbm"
   ]
  },
  {
   "cell_type": "code",
   "execution_count": null,
   "id": "19fc5fa5",
   "metadata": {
    "execution": {
     "iopub.execute_input": "2022-11-06T21:37:34.559846Z",
     "iopub.status.busy": "2022-11-06T21:37:34.559187Z",
     "iopub.status.idle": "2022-11-06T21:37:34.563870Z",
     "shell.execute_reply": "2022-11-06T21:37:34.563147Z"
    },
    "papermill": {
     "duration": 0.086291,
     "end_time": "2022-11-06T21:37:34.565893",
     "exception": false,
     "start_time": "2022-11-06T21:37:34.479602",
     "status": "completed"
    },
    "tags": []
   },
   "outputs": [],
   "source": [
    "models_auc_scores.append(auc_score_lgbm)"
   ]
  },
  {
   "cell_type": "markdown",
   "id": "cd08864b",
   "metadata": {
    "papermill": {
     "duration": 0.077385,
     "end_time": "2022-11-06T21:37:34.721087",
     "exception": false,
     "start_time": "2022-11-06T21:37:34.643702",
     "status": "completed"
    },
    "tags": []
   },
   "source": [
    "<h3>7. CatBoost:</h3>"
   ]
  },
  {
   "cell_type": "code",
   "execution_count": null,
   "id": "87758cbd",
   "metadata": {
    "execution": {
     "iopub.execute_input": "2022-11-06T21:37:34.879064Z",
     "iopub.status.busy": "2022-11-06T21:37:34.878451Z",
     "iopub.status.idle": "2022-11-06T21:37:35.098994Z",
     "shell.execute_reply": "2022-11-06T21:37:35.097841Z"
    },
    "papermill": {
     "duration": 0.302223,
     "end_time": "2022-11-06T21:37:35.101637",
     "exception": false,
     "start_time": "2022-11-06T21:37:34.799414",
     "status": "completed"
    },
    "tags": []
   },
   "outputs": [],
   "source": [
    "from catboost import CatBoostClassifier\n",
    "\n",
    "cb = CatBoostClassifier(max_depth = 10, iterations=10, learning_rate=0.3)"
   ]
  },
  {
   "cell_type": "code",
   "execution_count": null,
   "id": "7cf47243",
   "metadata": {
    "execution": {
     "iopub.execute_input": "2022-11-06T21:37:35.260847Z",
     "iopub.status.busy": "2022-11-06T21:37:35.260474Z",
     "iopub.status.idle": "2022-11-06T21:37:40.812195Z",
     "shell.execute_reply": "2022-11-06T21:37:40.811040Z"
    },
    "papermill": {
     "duration": 5.633982,
     "end_time": "2022-11-06T21:37:40.814603",
     "exception": false,
     "start_time": "2022-11-06T21:37:35.180621",
     "status": "completed"
    },
    "tags": []
   },
   "outputs": [],
   "source": [
    "cb.fit(X_Train, Y_Train)"
   ]
  },
  {
   "cell_type": "code",
   "execution_count": null,
   "id": "ad418666",
   "metadata": {
    "execution": {
     "iopub.execute_input": "2022-11-06T21:37:41.032024Z",
     "iopub.status.busy": "2022-11-06T21:37:41.030801Z",
     "iopub.status.idle": "2022-11-06T21:37:41.055971Z",
     "shell.execute_reply": "2022-11-06T21:37:41.054792Z"
    },
    "papermill": {
     "duration": 0.110002,
     "end_time": "2022-11-06T21:37:41.059059",
     "exception": false,
     "start_time": "2022-11-06T21:37:40.949057",
     "status": "completed"
    },
    "tags": []
   },
   "outputs": [],
   "source": [
    "cb.score(X_Train, Y_Train)"
   ]
  },
  {
   "cell_type": "code",
   "execution_count": null,
   "id": "8608c5e9",
   "metadata": {
    "execution": {
     "iopub.execute_input": "2022-11-06T21:37:41.223608Z",
     "iopub.status.busy": "2022-11-06T21:37:41.223202Z",
     "iopub.status.idle": "2022-11-06T21:37:41.235441Z",
     "shell.execute_reply": "2022-11-06T21:37:41.234424Z"
    },
    "papermill": {
     "duration": 0.096968,
     "end_time": "2022-11-06T21:37:41.237677",
     "exception": false,
     "start_time": "2022-11-06T21:37:41.140709",
     "status": "completed"
    },
    "tags": []
   },
   "outputs": [],
   "source": [
    "cb.score(X_Test, Y_Test)"
   ]
  },
  {
   "cell_type": "code",
   "execution_count": null,
   "id": "256bee3b",
   "metadata": {
    "execution": {
     "iopub.execute_input": "2022-11-06T21:37:41.403660Z",
     "iopub.status.busy": "2022-11-06T21:37:41.402957Z",
     "iopub.status.idle": "2022-11-06T21:37:41.411050Z",
     "shell.execute_reply": "2022-11-06T21:37:41.410059Z"
    },
    "papermill": {
     "duration": 0.093011,
     "end_time": "2022-11-06T21:37:41.413432",
     "exception": false,
     "start_time": "2022-11-06T21:37:41.320421",
     "status": "completed"
    },
    "tags": []
   },
   "outputs": [],
   "source": [
    "Y_Pred_cb = cb.predict(X_Test)"
   ]
  },
  {
   "cell_type": "code",
   "execution_count": null,
   "id": "88525f45",
   "metadata": {
    "execution": {
     "iopub.execute_input": "2022-11-06T21:37:41.576621Z",
     "iopub.status.busy": "2022-11-06T21:37:41.575492Z",
     "iopub.status.idle": "2022-11-06T21:37:41.587502Z",
     "shell.execute_reply": "2022-11-06T21:37:41.586597Z"
    },
    "papermill": {
     "duration": 0.09653,
     "end_time": "2022-11-06T21:37:41.589807",
     "exception": false,
     "start_time": "2022-11-06T21:37:41.493277",
     "status": "completed"
    },
    "tags": []
   },
   "outputs": [],
   "source": [
    "models_names.append(\"CatBoost\")\n",
    "models_scores.append(cb.score(X_Test, Y_Test))"
   ]
  },
  {
   "cell_type": "code",
   "execution_count": null,
   "id": "bb5dff35",
   "metadata": {
    "execution": {
     "iopub.execute_input": "2022-11-06T21:37:41.753180Z",
     "iopub.status.busy": "2022-11-06T21:37:41.752011Z",
     "iopub.status.idle": "2022-11-06T21:37:41.771801Z",
     "shell.execute_reply": "2022-11-06T21:37:41.769658Z"
    },
    "papermill": {
     "duration": 0.104758,
     "end_time": "2022-11-06T21:37:41.775095",
     "exception": false,
     "start_time": "2022-11-06T21:37:41.670337",
     "status": "completed"
    },
    "tags": []
   },
   "outputs": [],
   "source": [
    "classification_report_fun(\"CatBoost\", Y_Test, Y_Pred_cb)"
   ]
  },
  {
   "cell_type": "markdown",
   "id": "5ec742d7",
   "metadata": {
    "papermill": {
     "duration": 0.078998,
     "end_time": "2022-11-06T21:37:41.934495",
     "exception": false,
     "start_time": "2022-11-06T21:37:41.855497",
     "status": "completed"
    },
    "tags": []
   },
   "source": [
    "<h3>Use the ROC Curve and ROC AUC to Evaluate the model:</h3>"
   ]
  },
  {
   "cell_type": "code",
   "execution_count": null,
   "id": "18afbb3c",
   "metadata": {
    "execution": {
     "iopub.execute_input": "2022-11-06T21:37:42.096675Z",
     "iopub.status.busy": "2022-11-06T21:37:42.096272Z",
     "iopub.status.idle": "2022-11-06T21:37:42.111916Z",
     "shell.execute_reply": "2022-11-06T21:37:42.110729Z"
    },
    "papermill": {
     "duration": 0.099788,
     "end_time": "2022-11-06T21:37:42.114818",
     "exception": false,
     "start_time": "2022-11-06T21:37:42.015030",
     "status": "completed"
    },
    "tags": []
   },
   "outputs": [],
   "source": [
    "Y_Proba_cb = cb.predict_proba(X_Test)"
   ]
  },
  {
   "cell_type": "code",
   "execution_count": null,
   "id": "4bd69c94",
   "metadata": {
    "execution": {
     "iopub.execute_input": "2022-11-06T21:37:42.276115Z",
     "iopub.status.busy": "2022-11-06T21:37:42.275739Z",
     "iopub.status.idle": "2022-11-06T21:39:23.601573Z",
     "shell.execute_reply": "2022-11-06T21:39:23.600466Z"
    },
    "papermill": {
     "duration": 101.409322,
     "end_time": "2022-11-06T21:39:23.603912",
     "exception": false,
     "start_time": "2022-11-06T21:37:42.194590",
     "status": "completed"
    },
    "tags": []
   },
   "outputs": [],
   "source": [
    "draw_pco(Y_Proba_cb, ['CF', 'CM', 'RW'])\n",
    "draw_pco(Y_Proba_cb, ['GK', 'CB', 'LW'])\n",
    "draw_pco(Y_Proba_cb, ['LM', 'LB','RM'])\n",
    "draw_pco(Y_Proba_cb, ['RB'])"
   ]
  },
  {
   "cell_type": "code",
   "execution_count": null,
   "id": "fdc12fbb",
   "metadata": {
    "execution": {
     "iopub.execute_input": "2022-11-06T21:39:23.776147Z",
     "iopub.status.busy": "2022-11-06T21:39:23.775329Z",
     "iopub.status.idle": "2022-11-06T21:39:23.801028Z",
     "shell.execute_reply": "2022-11-06T21:39:23.800005Z"
    },
    "papermill": {
     "duration": 0.113293,
     "end_time": "2022-11-06T21:39:23.803286",
     "exception": false,
     "start_time": "2022-11-06T21:39:23.689993",
     "status": "completed"
    },
    "tags": []
   },
   "outputs": [],
   "source": [
    "auc_score_cb = roc_auc_score(Y_Test, Y_Proba_cb, multi_class = 'ovr', average = 'macro')\n",
    "auc_score_cb"
   ]
  },
  {
   "cell_type": "code",
   "execution_count": null,
   "id": "685d50dc",
   "metadata": {
    "execution": {
     "iopub.execute_input": "2022-11-06T21:39:23.976641Z",
     "iopub.status.busy": "2022-11-06T21:39:23.975908Z",
     "iopub.status.idle": "2022-11-06T21:39:23.980101Z",
     "shell.execute_reply": "2022-11-06T21:39:23.979325Z"
    },
    "papermill": {
     "duration": 0.094924,
     "end_time": "2022-11-06T21:39:23.982157",
     "exception": false,
     "start_time": "2022-11-06T21:39:23.887233",
     "status": "completed"
    },
    "tags": []
   },
   "outputs": [],
   "source": [
    "models_auc_scores.append(auc_score_cb)"
   ]
  },
  {
   "cell_type": "markdown",
   "id": "42f5f24a",
   "metadata": {
    "papermill": {
     "duration": 0.083609,
     "end_time": "2022-11-06T21:39:24.149485",
     "exception": false,
     "start_time": "2022-11-06T21:39:24.065876",
     "status": "completed"
    },
    "tags": []
   },
   "source": [
    "<h3>8. KNN:</h3>"
   ]
  },
  {
   "cell_type": "code",
   "execution_count": null,
   "id": "c351ca43",
   "metadata": {
    "execution": {
     "iopub.execute_input": "2022-11-06T21:39:24.317157Z",
     "iopub.status.busy": "2022-11-06T21:39:24.316465Z",
     "iopub.status.idle": "2022-11-06T21:39:24.320694Z",
     "shell.execute_reply": "2022-11-06T21:39:24.319899Z"
    },
    "papermill": {
     "duration": 0.090378,
     "end_time": "2022-11-06T21:39:24.322779",
     "exception": false,
     "start_time": "2022-11-06T21:39:24.232401",
     "status": "completed"
    },
    "tags": []
   },
   "outputs": [],
   "source": [
    "from sklearn.neighbors import KNeighborsClassifier\n",
    "\n",
    "knn = KNeighborsClassifier(n_neighbors = 8)"
   ]
  },
  {
   "cell_type": "code",
   "execution_count": null,
   "id": "feb39fb5",
   "metadata": {
    "execution": {
     "iopub.execute_input": "2022-11-06T21:39:24.496109Z",
     "iopub.status.busy": "2022-11-06T21:39:24.495540Z",
     "iopub.status.idle": "2022-11-06T21:39:24.506195Z",
     "shell.execute_reply": "2022-11-06T21:39:24.505489Z"
    },
    "papermill": {
     "duration": 0.100046,
     "end_time": "2022-11-06T21:39:24.508174",
     "exception": false,
     "start_time": "2022-11-06T21:39:24.408128",
     "status": "completed"
    },
    "tags": []
   },
   "outputs": [],
   "source": [
    "knn.fit(X_Train, Y_Train)"
   ]
  },
  {
   "cell_type": "code",
   "execution_count": null,
   "id": "73fa7528",
   "metadata": {
    "execution": {
     "iopub.execute_input": "2022-11-06T21:39:24.678461Z",
     "iopub.status.busy": "2022-11-06T21:39:24.677632Z",
     "iopub.status.idle": "2022-11-06T21:39:42.650150Z",
     "shell.execute_reply": "2022-11-06T21:39:42.649335Z"
    },
    "papermill": {
     "duration": 18.059742,
     "end_time": "2022-11-06T21:39:42.652346",
     "exception": false,
     "start_time": "2022-11-06T21:39:24.592604",
     "status": "completed"
    },
    "tags": []
   },
   "outputs": [],
   "source": [
    "knn.score(X_Train, Y_Train)"
   ]
  },
  {
   "cell_type": "code",
   "execution_count": null,
   "id": "62e6e2da",
   "metadata": {
    "execution": {
     "iopub.execute_input": "2022-11-06T21:39:42.825440Z",
     "iopub.status.busy": "2022-11-06T21:39:42.824597Z",
     "iopub.status.idle": "2022-11-06T21:39:45.202487Z",
     "shell.execute_reply": "2022-11-06T21:39:45.201329Z"
    },
    "papermill": {
     "duration": 2.467103,
     "end_time": "2022-11-06T21:39:45.205045",
     "exception": false,
     "start_time": "2022-11-06T21:39:42.737942",
     "status": "completed"
    },
    "tags": []
   },
   "outputs": [],
   "source": [
    "knn.score(X_Test, Y_Test)"
   ]
  },
  {
   "cell_type": "code",
   "execution_count": null,
   "id": "512ea992",
   "metadata": {
    "execution": {
     "iopub.execute_input": "2022-11-06T21:39:45.373061Z",
     "iopub.status.busy": "2022-11-06T21:39:45.372038Z",
     "iopub.status.idle": "2022-11-06T21:39:45.387571Z",
     "shell.execute_reply": "2022-11-06T21:39:45.386652Z"
    },
    "papermill": {
     "duration": 0.102272,
     "end_time": "2022-11-06T21:39:45.389979",
     "exception": false,
     "start_time": "2022-11-06T21:39:45.287707",
     "status": "completed"
    },
    "tags": []
   },
   "outputs": [],
   "source": [
    "Y_Pred_knn = cb.predict(X_Test)"
   ]
  },
  {
   "cell_type": "code",
   "execution_count": null,
   "id": "5c8515b0",
   "metadata": {
    "execution": {
     "iopub.execute_input": "2022-11-06T21:39:45.558783Z",
     "iopub.status.busy": "2022-11-06T21:39:45.558410Z",
     "iopub.status.idle": "2022-11-06T21:39:47.942864Z",
     "shell.execute_reply": "2022-11-06T21:39:47.941814Z"
    },
    "papermill": {
     "duration": 2.471564,
     "end_time": "2022-11-06T21:39:47.945467",
     "exception": false,
     "start_time": "2022-11-06T21:39:45.473903",
     "status": "completed"
    },
    "tags": []
   },
   "outputs": [],
   "source": [
    "models_names.append(\"KNN\")\n",
    "models_scores.append(knn.score(X_Test, Y_Test))"
   ]
  },
  {
   "cell_type": "code",
   "execution_count": null,
   "id": "cd856783",
   "metadata": {
    "execution": {
     "iopub.execute_input": "2022-11-06T21:39:48.116557Z",
     "iopub.status.busy": "2022-11-06T21:39:48.116123Z",
     "iopub.status.idle": "2022-11-06T21:39:48.134858Z",
     "shell.execute_reply": "2022-11-06T21:39:48.133442Z"
    },
    "papermill": {
     "duration": 0.105581,
     "end_time": "2022-11-06T21:39:48.137127",
     "exception": false,
     "start_time": "2022-11-06T21:39:48.031546",
     "status": "completed"
    },
    "tags": []
   },
   "outputs": [],
   "source": [
    "classification_report_fun(\"KNN\", Y_Test, Y_Pred_knn)"
   ]
  },
  {
   "cell_type": "markdown",
   "id": "9dbded75",
   "metadata": {
    "papermill": {
     "duration": 0.083875,
     "end_time": "2022-11-06T21:39:48.304534",
     "exception": false,
     "start_time": "2022-11-06T21:39:48.220659",
     "status": "completed"
    },
    "tags": []
   },
   "source": [
    "<h3>Use the ROC Curve and ROC AUC to Evaluate the model:</h3>"
   ]
  },
  {
   "cell_type": "code",
   "execution_count": null,
   "id": "555eb66a",
   "metadata": {
    "execution": {
     "iopub.execute_input": "2022-11-06T21:39:48.473813Z",
     "iopub.status.busy": "2022-11-06T21:39:48.473400Z",
     "iopub.status.idle": "2022-11-06T21:39:50.753323Z",
     "shell.execute_reply": "2022-11-06T21:39:50.752390Z"
    },
    "papermill": {
     "duration": 2.367593,
     "end_time": "2022-11-06T21:39:50.756089",
     "exception": false,
     "start_time": "2022-11-06T21:39:48.388496",
     "status": "completed"
    },
    "tags": []
   },
   "outputs": [],
   "source": [
    "Y_Proba_knn = knn.predict_proba(X_Test)"
   ]
  },
  {
   "cell_type": "code",
   "execution_count": null,
   "id": "96ec18b9",
   "metadata": {
    "execution": {
     "iopub.execute_input": "2022-11-06T21:39:50.923712Z",
     "iopub.status.busy": "2022-11-06T21:39:50.923219Z",
     "iopub.status.idle": "2022-11-06T21:40:39.177555Z",
     "shell.execute_reply": "2022-11-06T21:40:39.176398Z"
    },
    "papermill": {
     "duration": 48.341167,
     "end_time": "2022-11-06T21:40:39.179891",
     "exception": false,
     "start_time": "2022-11-06T21:39:50.838724",
     "status": "completed"
    },
    "tags": []
   },
   "outputs": [],
   "source": [
    "draw_pco(Y_Proba_knn, ['CF', 'CM', 'RW'])\n",
    "draw_pco(Y_Proba_knn, ['GK', 'CB', 'LW'])\n",
    "draw_pco(Y_Proba_knn, ['LM', 'LB','RM'])\n",
    "draw_pco(Y_Proba_knn, ['RB'])"
   ]
  },
  {
   "cell_type": "code",
   "execution_count": null,
   "id": "1681c651",
   "metadata": {
    "execution": {
     "iopub.execute_input": "2022-11-06T21:40:39.356899Z",
     "iopub.status.busy": "2022-11-06T21:40:39.356533Z",
     "iopub.status.idle": "2022-11-06T21:40:39.377900Z",
     "shell.execute_reply": "2022-11-06T21:40:39.376794Z"
    },
    "papermill": {
     "duration": 0.111786,
     "end_time": "2022-11-06T21:40:39.379983",
     "exception": false,
     "start_time": "2022-11-06T21:40:39.268197",
     "status": "completed"
    },
    "tags": []
   },
   "outputs": [],
   "source": [
    "auc_score_knn = roc_auc_score(Y_Test, Y_Proba_knn, multi_class = 'ovr', average = 'macro')\n",
    "auc_score_knn"
   ]
  },
  {
   "cell_type": "code",
   "execution_count": null,
   "id": "5664bee0",
   "metadata": {
    "execution": {
     "iopub.execute_input": "2022-11-06T21:40:39.556354Z",
     "iopub.status.busy": "2022-11-06T21:40:39.555955Z",
     "iopub.status.idle": "2022-11-06T21:40:39.560647Z",
     "shell.execute_reply": "2022-11-06T21:40:39.559588Z"
    },
    "papermill": {
     "duration": 0.095967,
     "end_time": "2022-11-06T21:40:39.562662",
     "exception": false,
     "start_time": "2022-11-06T21:40:39.466695",
     "status": "completed"
    },
    "tags": []
   },
   "outputs": [],
   "source": [
    "models_auc_scores.append(auc_score_knn)"
   ]
  },
  {
   "cell_type": "markdown",
   "id": "5b4198e9",
   "metadata": {
    "papermill": {
     "duration": 0.08639,
     "end_time": "2022-11-06T21:40:39.735787",
     "exception": false,
     "start_time": "2022-11-06T21:40:39.649397",
     "status": "completed"
    },
    "tags": []
   },
   "source": [
    "<h3>Compare the Test Accuracy of the 8 Classification Algorithms:</h3>"
   ]
  },
  {
   "cell_type": "markdown",
   "id": "a0ad08b8",
   "metadata": {
    "papermill": {
     "duration": 0.086533,
     "end_time": "2022-11-06T21:40:39.908671",
     "exception": false,
     "start_time": "2022-11-06T21:40:39.822138",
     "status": "completed"
    },
    "tags": []
   },
   "source": [
    "<h3>Based on the Accuracy: </h3>"
   ]
  },
  {
   "cell_type": "code",
   "execution_count": null,
   "id": "cd229867",
   "metadata": {
    "execution": {
     "iopub.execute_input": "2022-11-06T21:40:40.085478Z",
     "iopub.status.busy": "2022-11-06T21:40:40.084747Z",
     "iopub.status.idle": "2022-11-06T21:40:40.096499Z",
     "shell.execute_reply": "2022-11-06T21:40:40.095679Z"
    },
    "papermill": {
     "duration": 0.102019,
     "end_time": "2022-11-06T21:40:40.098473",
     "exception": false,
     "start_time": "2022-11-06T21:40:39.996454",
     "status": "completed"
    },
    "tags": []
   },
   "outputs": [],
   "source": [
    "comp = pd.DataFrame()\n",
    "comp['name'] = models_names\n",
    "comp['score'] = models_scores\n",
    "comp"
   ]
  },
  {
   "cell_type": "code",
   "execution_count": null,
   "id": "73646360",
   "metadata": {
    "execution": {
     "iopub.execute_input": "2022-11-06T21:40:40.274522Z",
     "iopub.status.busy": "2022-11-06T21:40:40.273274Z",
     "iopub.status.idle": "2022-11-06T21:40:40.342350Z",
     "shell.execute_reply": "2022-11-06T21:40:40.341143Z"
    },
    "papermill": {
     "duration": 0.160141,
     "end_time": "2022-11-06T21:40:40.345089",
     "exception": false,
     "start_time": "2022-11-06T21:40:40.184948",
     "status": "completed"
    },
    "tags": []
   },
   "outputs": [],
   "source": [
    "cm = sns.light_palette(\"green\", as_cmap=True)\n",
    "s = comp.style.background_gradient(cmap=cm)\n",
    "s"
   ]
  },
  {
   "cell_type": "code",
   "execution_count": null,
   "id": "3bdcf6f0",
   "metadata": {
    "execution": {
     "iopub.execute_input": "2022-11-06T21:40:40.524825Z",
     "iopub.status.busy": "2022-11-06T21:40:40.523655Z",
     "iopub.status.idle": "2022-11-06T21:40:40.778057Z",
     "shell.execute_reply": "2022-11-06T21:40:40.777281Z"
    },
    "papermill": {
     "duration": 0.346692,
     "end_time": "2022-11-06T21:40:40.780271",
     "exception": false,
     "start_time": "2022-11-06T21:40:40.433579",
     "status": "completed"
    },
    "tags": []
   },
   "outputs": [],
   "source": [
    "sns.set(style=\"whitegrid\")\n",
    "ax = sns.barplot(y=\"name\", x=\"score\", data=comp.sort_values(by=\"score\", ascending=False))"
   ]
  },
  {
   "cell_type": "markdown",
   "id": "f9ee9099",
   "metadata": {
    "papermill": {
     "duration": 0.090053,
     "end_time": "2022-11-06T21:40:40.957797",
     "exception": false,
     "start_time": "2022-11-06T21:40:40.867744",
     "status": "completed"
    },
    "tags": []
   },
   "source": [
    "<h3>Based on the ROC AUC Score:</h3>"
   ]
  },
  {
   "cell_type": "code",
   "execution_count": null,
   "id": "a55f39e0",
   "metadata": {
    "execution": {
     "iopub.execute_input": "2022-11-06T21:40:41.135816Z",
     "iopub.status.busy": "2022-11-06T21:40:41.135186Z",
     "iopub.status.idle": "2022-11-06T21:40:41.148466Z",
     "shell.execute_reply": "2022-11-06T21:40:41.147377Z"
    },
    "papermill": {
     "duration": 0.104793,
     "end_time": "2022-11-06T21:40:41.150681",
     "exception": false,
     "start_time": "2022-11-06T21:40:41.045888",
     "status": "completed"
    },
    "tags": []
   },
   "outputs": [],
   "source": [
    "comp_auc = pd.DataFrame()\n",
    "comp_auc['name'] = models_names\n",
    "comp_auc['score'] = models_auc_scores\n",
    "comp_auc"
   ]
  },
  {
   "cell_type": "code",
   "execution_count": null,
   "id": "0f3e1573",
   "metadata": {
    "execution": {
     "iopub.execute_input": "2022-11-06T21:40:41.327798Z",
     "iopub.status.busy": "2022-11-06T21:40:41.326955Z",
     "iopub.status.idle": "2022-11-06T21:40:41.342351Z",
     "shell.execute_reply": "2022-11-06T21:40:41.341236Z"
    },
    "papermill": {
     "duration": 0.106663,
     "end_time": "2022-11-06T21:40:41.344768",
     "exception": false,
     "start_time": "2022-11-06T21:40:41.238105",
     "status": "completed"
    },
    "tags": []
   },
   "outputs": [],
   "source": [
    "cm = sns.light_palette(\"green\", as_cmap=True)\n",
    "s = comp_auc.style.background_gradient(cmap=cm)\n",
    "s"
   ]
  },
  {
   "cell_type": "code",
   "execution_count": null,
   "id": "72e9a946",
   "metadata": {
    "execution": {
     "iopub.execute_input": "2022-11-06T21:40:41.523360Z",
     "iopub.status.busy": "2022-11-06T21:40:41.522597Z",
     "iopub.status.idle": "2022-11-06T21:40:41.742455Z",
     "shell.execute_reply": "2022-11-06T21:40:41.741636Z"
    },
    "papermill": {
     "duration": 0.311828,
     "end_time": "2022-11-06T21:40:41.744719",
     "exception": false,
     "start_time": "2022-11-06T21:40:41.432891",
     "status": "completed"
    },
    "tags": []
   },
   "outputs": [],
   "source": [
    "sns.set(style=\"whitegrid\")\n",
    "ax = sns.barplot(y=\"name\", x=\"score\", data=comp_auc.sort_values(by=\"score\", ascending=False))"
   ]
  },
  {
   "cell_type": "markdown",
   "id": "e10fbf76",
   "metadata": {
    "papermill": {
     "duration": 0.095186,
     "end_time": "2022-11-06T21:40:41.928253",
     "exception": false,
     "start_time": "2022-11-06T21:40:41.833067",
     "status": "completed"
    },
    "tags": []
   },
   "source": [
    "<h3>So We can deduce that the Best Algorithm for this Data is the XGB </h3>"
   ]
  },
  {
   "cell_type": "markdown",
   "id": "6bf72571",
   "metadata": {
    "papermill": {
     "duration": 0.089653,
     "end_time": "2022-11-06T21:40:42.140128",
     "exception": false,
     "start_time": "2022-11-06T21:40:42.050475",
     "status": "completed"
    },
    "tags": []
   },
   "source": [
    "<h3>Test the Algorithm on the top 20 Players:</h3>"
   ]
  },
  {
   "cell_type": "code",
   "execution_count": null,
   "id": "679e0ce2",
   "metadata": {
    "execution": {
     "iopub.execute_input": "2022-11-06T21:40:42.320954Z",
     "iopub.status.busy": "2022-11-06T21:40:42.320113Z",
     "iopub.status.idle": "2022-11-06T21:40:42.451206Z",
     "shell.execute_reply": "2022-11-06T21:40:42.450205Z"
    },
    "papermill": {
     "duration": 0.224063,
     "end_time": "2022-11-06T21:40:42.453757",
     "exception": false,
     "start_time": "2022-11-06T21:40:42.229694",
     "status": "completed"
    },
    "tags": []
   },
   "outputs": [],
   "source": [
    "top = pd.DataFrame(top)\n",
    "\n",
    "for i in range(top.shape[0]):\n",
    "    pred_pos = xgb.predict(top.iloc[[i]])[0]\n",
    "    \n",
    "    pred = list(mapping.keys())[list(mapping.values()).index(pred_pos)]\n",
    "    true_pos = list(mapping.keys())[list(mapping.values()).index(top_pos.iloc[i])]\n",
    "\n",
    "    print('Name: {}\\nPrediction: {}\\n True Best Pos: {}\\n'.format(top_names.iloc[i], pred, true_pos))"
   ]
  }
 ],
 "metadata": {
  "kernelspec": {
   "display_name": "Python 3 (ipykernel)",
   "language": "python",
   "name": "python3"
  },
  "language_info": {
   "codemirror_mode": {
    "name": "ipython",
    "version": 3
   },
   "file_extension": ".py",
   "mimetype": "text/x-python",
   "name": "python",
   "nbconvert_exporter": "python",
   "pygments_lexer": "ipython3",
   "version": "3.10.9"
  },
  "papermill": {
   "default_parameters": {},
   "duration": 856.954771,
   "end_time": "2022-11-06T21:41:01.680788",
   "environment_variables": {},
   "exception": null,
   "input_path": "__notebook__.ipynb",
   "output_path": "__notebook__.ipynb",
   "parameters": {},
   "start_time": "2022-11-06T21:26:44.726017",
   "version": "2.3.4"
  },
  "vscode": {
   "interpreter": {
    "hash": "5179d32cf6ec497baf3f8a3ef987cc77c5d2dc691fdde20a56316522f61a7323"
   }
  }
 },
 "nbformat": 4,
 "nbformat_minor": 5
}
